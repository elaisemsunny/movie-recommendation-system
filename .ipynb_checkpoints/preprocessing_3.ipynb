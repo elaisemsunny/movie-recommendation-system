{
  "nbformat": 4,
  "nbformat_minor": 0,
  "metadata": {
    "kernelspec": {
      "display_name": "Python 3",
      "language": "python",
      "name": "python3"
    },
    "language_info": {
      "codemirror_mode": {
        "name": "ipython",
        "version": 3
      },
      "file_extension": ".py",
      "mimetype": "text/x-python",
      "name": "python",
      "nbconvert_exporter": "python",
      "pygments_lexer": "ipython3",
      "version": "3.8.3"
    },
    "colab": {
      "name": "preprocessing 3.ipynb",
      "provenance": [],
      "collapsed_sections": [],
      "toc_visible": true
    }
  },
  "cells": [
    {
      "cell_type": "code",
      "metadata": {
        "id": "p2HN1Zitg6YP"
      },
      "source": [
        "import pandas as pd\n",
        "import numpy as np"
      ],
      "execution_count": null,
      "outputs": []
    },
    {
      "cell_type": "markdown",
      "metadata": {
        "id": "b7ljQ9G3g6YV"
      },
      "source": [
        "## Extracting features of 2018 movies from Wikipedia"
      ]
    },
    {
      "cell_type": "code",
      "metadata": {
        "id": "QDt0yB9Yg6YW"
      },
      "source": [
        "link = \"https://en.wikipedia.org/wiki/List_of_American_films_of_2018\"\n",
        "df1 = pd.read_html(link, header=0)[2]\n",
        "df2 = pd.read_html(link, header=0)[3]\n",
        "df3 = pd.read_html(link, header=0)[4]\n",
        "df4 = pd.read_html(link, header=0)[5]"
      ],
      "execution_count": null,
      "outputs": []
    },
    {
      "cell_type": "code",
      "metadata": {
        "scrolled": true,
        "id": "aKblWwfEg6YW"
      },
      "source": [
        "df = df1.append(df2.append(df3.append(df4,ignore_index=True),ignore_index=True),ignore_index=True)"
      ],
      "execution_count": null,
      "outputs": []
    },
    {
      "cell_type": "code",
      "metadata": {
        "colab": {
          "base_uri": "https://localhost:8080/",
          "height": 402
        },
        "id": "cn_-at89g6YX",
        "outputId": "c3921e69-8d0d-4dfc-9d28-7fc6ad381937"
      },
      "source": [
        "df"
      ],
      "execution_count": null,
      "outputs": [
        {
          "output_type": "execute_result",
          "data": {
            "text/html": [
              "<div>\n",
              "<style scoped>\n",
              "    .dataframe tbody tr th:only-of-type {\n",
              "        vertical-align: middle;\n",
              "    }\n",
              "\n",
              "    .dataframe tbody tr th {\n",
              "        vertical-align: top;\n",
              "    }\n",
              "\n",
              "    .dataframe thead th {\n",
              "        text-align: right;\n",
              "    }\n",
              "</style>\n",
              "<table border=\"1\" class=\"dataframe\">\n",
              "  <thead>\n",
              "    <tr style=\"text-align: right;\">\n",
              "      <th></th>\n",
              "      <th>Opening</th>\n",
              "      <th>Opening.1</th>\n",
              "      <th>Title</th>\n",
              "      <th>Production company</th>\n",
              "      <th>Cast and crew</th>\n",
              "      <th>Ref.</th>\n",
              "    </tr>\n",
              "  </thead>\n",
              "  <tbody>\n",
              "    <tr>\n",
              "      <th>0</th>\n",
              "      <td>JANUARY</td>\n",
              "      <td>5</td>\n",
              "      <td>Insidious: The Last Key</td>\n",
              "      <td>Universal Pictures / Blumhouse Productions / S...</td>\n",
              "      <td>Adam Robitel (director); Leigh Whannell (scree...</td>\n",
              "      <td>[2]</td>\n",
              "    </tr>\n",
              "    <tr>\n",
              "      <th>1</th>\n",
              "      <td>JANUARY</td>\n",
              "      <td>5</td>\n",
              "      <td>The Strange Ones</td>\n",
              "      <td>Vertical Entertainment</td>\n",
              "      <td>Lauren Wolkstein (director); Christopher Radcl...</td>\n",
              "      <td>[3]</td>\n",
              "    </tr>\n",
              "    <tr>\n",
              "      <th>2</th>\n",
              "      <td>JANUARY</td>\n",
              "      <td>5</td>\n",
              "      <td>Stratton</td>\n",
              "      <td>Momentum Pictures</td>\n",
              "      <td>Simon West (director); Duncan Falconer, Warren...</td>\n",
              "      <td>[4]</td>\n",
              "    </tr>\n",
              "    <tr>\n",
              "      <th>3</th>\n",
              "      <td>JANUARY</td>\n",
              "      <td>10</td>\n",
              "      <td>Sweet Country</td>\n",
              "      <td>Samuel Goldwyn Films</td>\n",
              "      <td>Warwick Thornton (director); David Tranter, St...</td>\n",
              "      <td>[5]</td>\n",
              "    </tr>\n",
              "    <tr>\n",
              "      <th>4</th>\n",
              "      <td>JANUARY</td>\n",
              "      <td>12</td>\n",
              "      <td>The Commuter</td>\n",
              "      <td>Lionsgate / StudioCanal / The Picture Company</td>\n",
              "      <td>Jaume Collet-Serra (director); Byron Willinger...</td>\n",
              "      <td>[6]</td>\n",
              "    </tr>\n",
              "    <tr>\n",
              "      <th>...</th>\n",
              "      <td>...</td>\n",
              "      <td>...</td>\n",
              "      <td>...</td>\n",
              "      <td>...</td>\n",
              "      <td>...</td>\n",
              "      <td>...</td>\n",
              "    </tr>\n",
              "    <tr>\n",
              "      <th>264</th>\n",
              "      <td>DECEMBER</td>\n",
              "      <td>25</td>\n",
              "      <td>Holmes &amp; Watson</td>\n",
              "      <td>Columbia Pictures / Gary Sanchez Productions</td>\n",
              "      <td>Etan Cohen (director/screenplay); Will Ferrell...</td>\n",
              "      <td>[163]</td>\n",
              "    </tr>\n",
              "    <tr>\n",
              "      <th>265</th>\n",
              "      <td>DECEMBER</td>\n",
              "      <td>25</td>\n",
              "      <td>Vice</td>\n",
              "      <td>Annapurna Pictures / Plan B Entertainment</td>\n",
              "      <td>Adam McKay (director/screenplay); Christian Ba...</td>\n",
              "      <td>[137]</td>\n",
              "    </tr>\n",
              "    <tr>\n",
              "      <th>266</th>\n",
              "      <td>DECEMBER</td>\n",
              "      <td>25</td>\n",
              "      <td>On the Basis of Sex</td>\n",
              "      <td>Focus Features</td>\n",
              "      <td>Mimi Leder (director); Daniel Stiepleman (scre...</td>\n",
              "      <td>[226]</td>\n",
              "    </tr>\n",
              "    <tr>\n",
              "      <th>267</th>\n",
              "      <td>DECEMBER</td>\n",
              "      <td>25</td>\n",
              "      <td>Destroyer</td>\n",
              "      <td>Annapurna Pictures</td>\n",
              "      <td>Karyn Kusama (director); Phil Hay, Matt Manfre...</td>\n",
              "      <td>[258]</td>\n",
              "    </tr>\n",
              "    <tr>\n",
              "      <th>268</th>\n",
              "      <td>DECEMBER</td>\n",
              "      <td>28</td>\n",
              "      <td>Black Mirror: Bandersnatch</td>\n",
              "      <td>Netflix</td>\n",
              "      <td>David Slade (director); Charlie Brooker (scree...</td>\n",
              "      <td>[259]</td>\n",
              "    </tr>\n",
              "  </tbody>\n",
              "</table>\n",
              "<p>269 rows × 6 columns</p>\n",
              "</div>"
            ],
            "text/plain": [
              "      Opening  ...   Ref.\n",
              "0     JANUARY  ...    [2]\n",
              "1     JANUARY  ...    [3]\n",
              "2     JANUARY  ...    [4]\n",
              "3     JANUARY  ...    [5]\n",
              "4     JANUARY  ...    [6]\n",
              "..        ...  ...    ...\n",
              "264  DECEMBER  ...  [163]\n",
              "265  DECEMBER  ...  [137]\n",
              "266  DECEMBER  ...  [226]\n",
              "267  DECEMBER  ...  [258]\n",
              "268  DECEMBER  ...  [259]\n",
              "\n",
              "[269 rows x 6 columns]"
            ]
          },
          "metadata": {
            "tags": []
          },
          "execution_count": 107
        }
      ]
    },
    {
      "cell_type": "code",
      "metadata": {
        "colab": {
          "base_uri": "https://localhost:8080/"
        },
        "id": "EBL2PkAug6YY",
        "outputId": "8a23db31-9f3c-4799-95e5-db35aae5ddca"
      },
      "source": [
        "! pip install tmdbv3api\n",
        "from tmdbv3api import TMDb\n",
        "import json\n",
        "import requests\n",
        "tmdb = TMDb()\n",
        "tmdb.api_key = 'cdee5fcf814b29cace9ecf179882cff3'"
      ],
      "execution_count": null,
      "outputs": [
        {
          "output_type": "stream",
          "text": [
            "Requirement already satisfied: tmdbv3api in /usr/local/lib/python3.7/dist-packages (1.7.5)\n",
            "Requirement already satisfied: requests in /usr/local/lib/python3.7/dist-packages (from tmdbv3api) (2.23.0)\n",
            "Requirement already satisfied: idna<3,>=2.5 in /usr/local/lib/python3.7/dist-packages (from requests->tmdbv3api) (2.10)\n",
            "Requirement already satisfied: urllib3!=1.25.0,!=1.25.1,<1.26,>=1.21.1 in /usr/local/lib/python3.7/dist-packages (from requests->tmdbv3api) (1.24.3)\n",
            "Requirement already satisfied: chardet<4,>=3.0.2 in /usr/local/lib/python3.7/dist-packages (from requests->tmdbv3api) (3.0.4)\n",
            "Requirement already satisfied: certifi>=2017.4.17 in /usr/local/lib/python3.7/dist-packages (from requests->tmdbv3api) (2020.12.5)\n"
          ],
          "name": "stdout"
        }
      ]
    },
    {
      "cell_type": "code",
      "metadata": {
        "id": "dut6qNx9g6YY"
      },
      "source": [
        "from tmdbv3api import Movie\n",
        "tmdb_movie = Movie()\n",
        "def get_genre(x):\n",
        "    genres = []\n",
        "    result = tmdb_movie.search(x)\n",
        "    movie_id = result[0].id\n",
        "    response = requests.get('https://api.themoviedb.org/3/movie/{}?api_key={}'.format(movie_id,tmdb.api_key))\n",
        "    data_json = response.json()\n",
        "    if data_json['genres']:\n",
        "        genre_str = \" \" \n",
        "        for i in range(0,len(data_json['genres'])):\n",
        "            genres.append(data_json['genres'][i]['name'])\n",
        "        return genre_str.join(genres)\n",
        "    else:\n",
        "        np.NaN"
      ],
      "execution_count": null,
      "outputs": []
    },
    {
      "cell_type": "code",
      "metadata": {
        "id": "XzBsd0KNg6YY"
      },
      "source": [
        "df['genres'] = df['Title'].map(lambda x: get_genre(str(x)))"
      ],
      "execution_count": null,
      "outputs": []
    },
    {
      "cell_type": "code",
      "metadata": {
        "colab": {
          "base_uri": "https://localhost:8080/",
          "height": 402
        },
        "id": "S34Bvcx3g6YY",
        "outputId": "19b5db46-4e75-48dd-ddda-141ac127fe0e"
      },
      "source": [
        "df"
      ],
      "execution_count": null,
      "outputs": [
        {
          "output_type": "execute_result",
          "data": {
            "text/html": [
              "<div>\n",
              "<style scoped>\n",
              "    .dataframe tbody tr th:only-of-type {\n",
              "        vertical-align: middle;\n",
              "    }\n",
              "\n",
              "    .dataframe tbody tr th {\n",
              "        vertical-align: top;\n",
              "    }\n",
              "\n",
              "    .dataframe thead th {\n",
              "        text-align: right;\n",
              "    }\n",
              "</style>\n",
              "<table border=\"1\" class=\"dataframe\">\n",
              "  <thead>\n",
              "    <tr style=\"text-align: right;\">\n",
              "      <th></th>\n",
              "      <th>Opening</th>\n",
              "      <th>Opening.1</th>\n",
              "      <th>Title</th>\n",
              "      <th>Production company</th>\n",
              "      <th>Cast and crew</th>\n",
              "      <th>Ref.</th>\n",
              "      <th>genres</th>\n",
              "    </tr>\n",
              "  </thead>\n",
              "  <tbody>\n",
              "    <tr>\n",
              "      <th>0</th>\n",
              "      <td>JANUARY</td>\n",
              "      <td>5</td>\n",
              "      <td>Insidious: The Last Key</td>\n",
              "      <td>Universal Pictures / Blumhouse Productions / S...</td>\n",
              "      <td>Adam Robitel (director); Leigh Whannell (scree...</td>\n",
              "      <td>[2]</td>\n",
              "      <td>Horror Mystery Thriller</td>\n",
              "    </tr>\n",
              "    <tr>\n",
              "      <th>1</th>\n",
              "      <td>JANUARY</td>\n",
              "      <td>5</td>\n",
              "      <td>The Strange Ones</td>\n",
              "      <td>Vertical Entertainment</td>\n",
              "      <td>Lauren Wolkstein (director); Christopher Radcl...</td>\n",
              "      <td>[3]</td>\n",
              "      <td>Thriller Drama</td>\n",
              "    </tr>\n",
              "    <tr>\n",
              "      <th>2</th>\n",
              "      <td>JANUARY</td>\n",
              "      <td>5</td>\n",
              "      <td>Stratton</td>\n",
              "      <td>Momentum Pictures</td>\n",
              "      <td>Simon West (director); Duncan Falconer, Warren...</td>\n",
              "      <td>[4]</td>\n",
              "      <td>Action Thriller</td>\n",
              "    </tr>\n",
              "    <tr>\n",
              "      <th>3</th>\n",
              "      <td>JANUARY</td>\n",
              "      <td>10</td>\n",
              "      <td>Sweet Country</td>\n",
              "      <td>Samuel Goldwyn Films</td>\n",
              "      <td>Warwick Thornton (director); David Tranter, St...</td>\n",
              "      <td>[5]</td>\n",
              "      <td>Drama History Western</td>\n",
              "    </tr>\n",
              "    <tr>\n",
              "      <th>4</th>\n",
              "      <td>JANUARY</td>\n",
              "      <td>12</td>\n",
              "      <td>The Commuter</td>\n",
              "      <td>Lionsgate / StudioCanal / The Picture Company</td>\n",
              "      <td>Jaume Collet-Serra (director); Byron Willinger...</td>\n",
              "      <td>[6]</td>\n",
              "      <td>Action Thriller</td>\n",
              "    </tr>\n",
              "    <tr>\n",
              "      <th>...</th>\n",
              "      <td>...</td>\n",
              "      <td>...</td>\n",
              "      <td>...</td>\n",
              "      <td>...</td>\n",
              "      <td>...</td>\n",
              "      <td>...</td>\n",
              "      <td>...</td>\n",
              "    </tr>\n",
              "    <tr>\n",
              "      <th>264</th>\n",
              "      <td>DECEMBER</td>\n",
              "      <td>25</td>\n",
              "      <td>Holmes &amp; Watson</td>\n",
              "      <td>Columbia Pictures / Gary Sanchez Productions</td>\n",
              "      <td>Etan Cohen (director/screenplay); Will Ferrell...</td>\n",
              "      <td>[163]</td>\n",
              "      <td>Mystery Adventure Comedy Crime</td>\n",
              "    </tr>\n",
              "    <tr>\n",
              "      <th>265</th>\n",
              "      <td>DECEMBER</td>\n",
              "      <td>25</td>\n",
              "      <td>Vice</td>\n",
              "      <td>Annapurna Pictures / Plan B Entertainment</td>\n",
              "      <td>Adam McKay (director/screenplay); Christian Ba...</td>\n",
              "      <td>[137]</td>\n",
              "      <td>Thriller Science Fiction Action Adventure</td>\n",
              "    </tr>\n",
              "    <tr>\n",
              "      <th>266</th>\n",
              "      <td>DECEMBER</td>\n",
              "      <td>25</td>\n",
              "      <td>On the Basis of Sex</td>\n",
              "      <td>Focus Features</td>\n",
              "      <td>Mimi Leder (director); Daniel Stiepleman (scre...</td>\n",
              "      <td>[226]</td>\n",
              "      <td>Drama History</td>\n",
              "    </tr>\n",
              "    <tr>\n",
              "      <th>267</th>\n",
              "      <td>DECEMBER</td>\n",
              "      <td>25</td>\n",
              "      <td>Destroyer</td>\n",
              "      <td>Annapurna Pictures</td>\n",
              "      <td>Karyn Kusama (director); Phil Hay, Matt Manfre...</td>\n",
              "      <td>[258]</td>\n",
              "      <td>Thriller Crime Drama Action</td>\n",
              "    </tr>\n",
              "    <tr>\n",
              "      <th>268</th>\n",
              "      <td>DECEMBER</td>\n",
              "      <td>28</td>\n",
              "      <td>Black Mirror: Bandersnatch</td>\n",
              "      <td>Netflix</td>\n",
              "      <td>David Slade (director); Charlie Brooker (scree...</td>\n",
              "      <td>[259]</td>\n",
              "      <td>Science Fiction Mystery Drama Thriller TV Movie</td>\n",
              "    </tr>\n",
              "  </tbody>\n",
              "</table>\n",
              "<p>269 rows × 7 columns</p>\n",
              "</div>"
            ],
            "text/plain": [
              "      Opening  ...                                           genres\n",
              "0     JANUARY  ...                          Horror Mystery Thriller\n",
              "1     JANUARY  ...                                   Thriller Drama\n",
              "2     JANUARY  ...                                  Action Thriller\n",
              "3     JANUARY  ...                            Drama History Western\n",
              "4     JANUARY  ...                                  Action Thriller\n",
              "..        ...  ...                                              ...\n",
              "264  DECEMBER  ...                   Mystery Adventure Comedy Crime\n",
              "265  DECEMBER  ...        Thriller Science Fiction Action Adventure\n",
              "266  DECEMBER  ...                                    Drama History\n",
              "267  DECEMBER  ...                      Thriller Crime Drama Action\n",
              "268  DECEMBER  ...  Science Fiction Mystery Drama Thriller TV Movie\n",
              "\n",
              "[269 rows x 7 columns]"
            ]
          },
          "metadata": {
            "tags": []
          },
          "execution_count": 111
        }
      ]
    },
    {
      "cell_type": "code",
      "metadata": {
        "id": "6JMrRF40g6Ya"
      },
      "source": [
        "df_2018 = df[['Title','Cast and crew','genres']]"
      ],
      "execution_count": null,
      "outputs": []
    },
    {
      "cell_type": "code",
      "metadata": {
        "colab": {
          "base_uri": "https://localhost:8080/",
          "height": 402
        },
        "id": "3wlmkgGPg6Ya",
        "outputId": "00a3e157-960d-450b-b514-dbb07d695977"
      },
      "source": [
        "df_2018"
      ],
      "execution_count": null,
      "outputs": [
        {
          "output_type": "execute_result",
          "data": {
            "text/html": [
              "<div>\n",
              "<style scoped>\n",
              "    .dataframe tbody tr th:only-of-type {\n",
              "        vertical-align: middle;\n",
              "    }\n",
              "\n",
              "    .dataframe tbody tr th {\n",
              "        vertical-align: top;\n",
              "    }\n",
              "\n",
              "    .dataframe thead th {\n",
              "        text-align: right;\n",
              "    }\n",
              "</style>\n",
              "<table border=\"1\" class=\"dataframe\">\n",
              "  <thead>\n",
              "    <tr style=\"text-align: right;\">\n",
              "      <th></th>\n",
              "      <th>Title</th>\n",
              "      <th>Cast and crew</th>\n",
              "      <th>genres</th>\n",
              "    </tr>\n",
              "  </thead>\n",
              "  <tbody>\n",
              "    <tr>\n",
              "      <th>0</th>\n",
              "      <td>Insidious: The Last Key</td>\n",
              "      <td>Adam Robitel (director); Leigh Whannell (scree...</td>\n",
              "      <td>Horror Mystery Thriller</td>\n",
              "    </tr>\n",
              "    <tr>\n",
              "      <th>1</th>\n",
              "      <td>The Strange Ones</td>\n",
              "      <td>Lauren Wolkstein (director); Christopher Radcl...</td>\n",
              "      <td>Thriller Drama</td>\n",
              "    </tr>\n",
              "    <tr>\n",
              "      <th>2</th>\n",
              "      <td>Stratton</td>\n",
              "      <td>Simon West (director); Duncan Falconer, Warren...</td>\n",
              "      <td>Action Thriller</td>\n",
              "    </tr>\n",
              "    <tr>\n",
              "      <th>3</th>\n",
              "      <td>Sweet Country</td>\n",
              "      <td>Warwick Thornton (director); David Tranter, St...</td>\n",
              "      <td>Drama History Western</td>\n",
              "    </tr>\n",
              "    <tr>\n",
              "      <th>4</th>\n",
              "      <td>The Commuter</td>\n",
              "      <td>Jaume Collet-Serra (director); Byron Willinger...</td>\n",
              "      <td>Action Thriller</td>\n",
              "    </tr>\n",
              "    <tr>\n",
              "      <th>...</th>\n",
              "      <td>...</td>\n",
              "      <td>...</td>\n",
              "      <td>...</td>\n",
              "    </tr>\n",
              "    <tr>\n",
              "      <th>264</th>\n",
              "      <td>Holmes &amp; Watson</td>\n",
              "      <td>Etan Cohen (director/screenplay); Will Ferrell...</td>\n",
              "      <td>Mystery Adventure Comedy Crime</td>\n",
              "    </tr>\n",
              "    <tr>\n",
              "      <th>265</th>\n",
              "      <td>Vice</td>\n",
              "      <td>Adam McKay (director/screenplay); Christian Ba...</td>\n",
              "      <td>Thriller Science Fiction Action Adventure</td>\n",
              "    </tr>\n",
              "    <tr>\n",
              "      <th>266</th>\n",
              "      <td>On the Basis of Sex</td>\n",
              "      <td>Mimi Leder (director); Daniel Stiepleman (scre...</td>\n",
              "      <td>Drama History</td>\n",
              "    </tr>\n",
              "    <tr>\n",
              "      <th>267</th>\n",
              "      <td>Destroyer</td>\n",
              "      <td>Karyn Kusama (director); Phil Hay, Matt Manfre...</td>\n",
              "      <td>Thriller Crime Drama Action</td>\n",
              "    </tr>\n",
              "    <tr>\n",
              "      <th>268</th>\n",
              "      <td>Black Mirror: Bandersnatch</td>\n",
              "      <td>David Slade (director); Charlie Brooker (scree...</td>\n",
              "      <td>Science Fiction Mystery Drama Thriller TV Movie</td>\n",
              "    </tr>\n",
              "  </tbody>\n",
              "</table>\n",
              "<p>269 rows × 3 columns</p>\n",
              "</div>"
            ],
            "text/plain": [
              "                          Title  ...                                           genres\n",
              "0       Insidious: The Last Key  ...                          Horror Mystery Thriller\n",
              "1              The Strange Ones  ...                                   Thriller Drama\n",
              "2                      Stratton  ...                                  Action Thriller\n",
              "3                 Sweet Country  ...                            Drama History Western\n",
              "4                  The Commuter  ...                                  Action Thriller\n",
              "..                          ...  ...                                              ...\n",
              "264             Holmes & Watson  ...                   Mystery Adventure Comedy Crime\n",
              "265                        Vice  ...        Thriller Science Fiction Action Adventure\n",
              "266         On the Basis of Sex  ...                                    Drama History\n",
              "267                   Destroyer  ...                      Thriller Crime Drama Action\n",
              "268  Black Mirror: Bandersnatch  ...  Science Fiction Mystery Drama Thriller TV Movie\n",
              "\n",
              "[269 rows x 3 columns]"
            ]
          },
          "metadata": {
            "tags": []
          },
          "execution_count": 113
        }
      ]
    },
    {
      "cell_type": "code",
      "metadata": {
        "id": "vgf2uFy8g6Ya"
      },
      "source": [
        "def get_director(x):\n",
        "    if \" (director)\" in x:\n",
        "        return x.split(\" (director)\")[0]\n",
        "    elif \" (directors)\" in x:\n",
        "        return x.split(\" (directors)\")[0]\n",
        "    else:\n",
        "        return x.split(\" (director/screenplay)\")[0]"
      ],
      "execution_count": null,
      "outputs": []
    },
    {
      "cell_type": "code",
      "metadata": {
        "id": "sNdjX7Beg6Yb"
      },
      "source": [
        "df_2018['director_name'] = df_2018['Cast and crew'].map(lambda x: get_director(x))"
      ],
      "execution_count": null,
      "outputs": []
    },
    {
      "cell_type": "code",
      "metadata": {
        "id": "Oyz3oAscg6Yb"
      },
      "source": [
        "def get_actor1(x):\n",
        "    return ((x.split(\"screenplay); \")[-1]).split(\", \")[0])"
      ],
      "execution_count": null,
      "outputs": []
    },
    {
      "cell_type": "code",
      "metadata": {
        "scrolled": true,
        "id": "goQTroJIg6Yb"
      },
      "source": [
        "df_2018['actor_1_name'] = df_2018['Cast and crew'].map(lambda x: get_actor1(x))"
      ],
      "execution_count": null,
      "outputs": []
    },
    {
      "cell_type": "code",
      "metadata": {
        "id": "RINUQwa4g6Yb"
      },
      "source": [
        "def get_actor2(x):\n",
        "    if len((x.split(\"screenplay); \")[-1]).split(\", \")) < 2:\n",
        "        return np.NaN\n",
        "    else:\n",
        "        return ((x.split(\"screenplay); \")[-1]).split(\", \")[1])"
      ],
      "execution_count": null,
      "outputs": []
    },
    {
      "cell_type": "code",
      "metadata": {
        "id": "OUGJBSGDg6Yc"
      },
      "source": [
        "df_2018['actor_2_name'] = df_2018['Cast and crew'].map(lambda x: get_actor2(x))"
      ],
      "execution_count": null,
      "outputs": []
    },
    {
      "cell_type": "code",
      "metadata": {
        "id": "jwXq65tKg6Yc"
      },
      "source": [
        "def get_actor3(x):\n",
        "    if len((x.split(\"screenplay); \")[-1]).split(\", \")) < 3:\n",
        "        return np.NaN\n",
        "    else:\n",
        "        return ((x.split(\"screenplay); \")[-1]).split(\", \")[2])"
      ],
      "execution_count": null,
      "outputs": []
    },
    {
      "cell_type": "code",
      "metadata": {
        "id": "doEnTAWCg6Yc"
      },
      "source": [
        "df_2018['actor_3_name'] = df_2018['Cast and crew'].map(lambda x: get_actor3(x))"
      ],
      "execution_count": null,
      "outputs": []
    },
    {
      "cell_type": "code",
      "metadata": {
        "colab": {
          "base_uri": "https://localhost:8080/",
          "height": 402
        },
        "id": "G3qfI2MNg6Yc",
        "outputId": "15be6ac7-2650-482f-bddf-1a3e96952d86"
      },
      "source": [
        "df_2018"
      ],
      "execution_count": null,
      "outputs": [
        {
          "output_type": "execute_result",
          "data": {
            "text/html": [
              "<div>\n",
              "<style scoped>\n",
              "    .dataframe tbody tr th:only-of-type {\n",
              "        vertical-align: middle;\n",
              "    }\n",
              "\n",
              "    .dataframe tbody tr th {\n",
              "        vertical-align: top;\n",
              "    }\n",
              "\n",
              "    .dataframe thead th {\n",
              "        text-align: right;\n",
              "    }\n",
              "</style>\n",
              "<table border=\"1\" class=\"dataframe\">\n",
              "  <thead>\n",
              "    <tr style=\"text-align: right;\">\n",
              "      <th></th>\n",
              "      <th>movie_title</th>\n",
              "      <th>Cast and crew</th>\n",
              "      <th>genres</th>\n",
              "      <th>actor_1_name</th>\n",
              "      <th>actor_2_name</th>\n",
              "      <th>actor_3_name</th>\n",
              "      <th>director_name</th>\n",
              "    </tr>\n",
              "  </thead>\n",
              "  <tbody>\n",
              "    <tr>\n",
              "      <th>0</th>\n",
              "      <td>Insidious: The Last Key</td>\n",
              "      <td>Adam Robitel (director); Leigh Whannell (scree...</td>\n",
              "      <td>Horror Mystery Thriller</td>\n",
              "      <td>Lin Shaye</td>\n",
              "      <td>Angus Sampson</td>\n",
              "      <td>Leigh Whannell</td>\n",
              "      <td>Adam Robitel</td>\n",
              "    </tr>\n",
              "    <tr>\n",
              "      <th>1</th>\n",
              "      <td>The Strange Ones</td>\n",
              "      <td>Lauren Wolkstein (director); Christopher Radcl...</td>\n",
              "      <td>Thriller Drama</td>\n",
              "      <td>Alex Pettyfer</td>\n",
              "      <td>James Freedson-Jackson</td>\n",
              "      <td>Emily Althaus</td>\n",
              "      <td>Lauren Wolkstein</td>\n",
              "    </tr>\n",
              "    <tr>\n",
              "      <th>2</th>\n",
              "      <td>Stratton</td>\n",
              "      <td>Simon West (director); Duncan Falconer, Warren...</td>\n",
              "      <td>Action Thriller</td>\n",
              "      <td>Dominic Cooper</td>\n",
              "      <td>Austin Stowell</td>\n",
              "      <td>Gemma Chan</td>\n",
              "      <td>Simon West</td>\n",
              "    </tr>\n",
              "    <tr>\n",
              "      <th>3</th>\n",
              "      <td>Sweet Country</td>\n",
              "      <td>Warwick Thornton (director); David Tranter, St...</td>\n",
              "      <td>Drama History Western</td>\n",
              "      <td>Bryan Brown</td>\n",
              "      <td>Sam Neill</td>\n",
              "      <td>NaN</td>\n",
              "      <td>Warwick Thornton</td>\n",
              "    </tr>\n",
              "    <tr>\n",
              "      <th>4</th>\n",
              "      <td>The Commuter</td>\n",
              "      <td>Jaume Collet-Serra (director); Byron Willinger...</td>\n",
              "      <td>Action Thriller</td>\n",
              "      <td>Liam Neeson</td>\n",
              "      <td>Vera Farmiga</td>\n",
              "      <td>Patrick Wilson</td>\n",
              "      <td>Jaume Collet-Serra</td>\n",
              "    </tr>\n",
              "    <tr>\n",
              "      <th>...</th>\n",
              "      <td>...</td>\n",
              "      <td>...</td>\n",
              "      <td>...</td>\n",
              "      <td>...</td>\n",
              "      <td>...</td>\n",
              "      <td>...</td>\n",
              "      <td>...</td>\n",
              "    </tr>\n",
              "    <tr>\n",
              "      <th>264</th>\n",
              "      <td>Holmes &amp; Watson</td>\n",
              "      <td>Etan Cohen (director/screenplay); Will Ferrell...</td>\n",
              "      <td>Mystery Adventure Comedy Crime</td>\n",
              "      <td>Will Ferrell</td>\n",
              "      <td>John C. Reilly</td>\n",
              "      <td>Rebecca Hall</td>\n",
              "      <td>Etan Cohen</td>\n",
              "    </tr>\n",
              "    <tr>\n",
              "      <th>265</th>\n",
              "      <td>Vice</td>\n",
              "      <td>Adam McKay (director/screenplay); Christian Ba...</td>\n",
              "      <td>Thriller Science Fiction Action Adventure</td>\n",
              "      <td>Christian Bale</td>\n",
              "      <td>Amy Adams</td>\n",
              "      <td>Steve Carell</td>\n",
              "      <td>Adam McKay</td>\n",
              "    </tr>\n",
              "    <tr>\n",
              "      <th>266</th>\n",
              "      <td>On the Basis of Sex</td>\n",
              "      <td>Mimi Leder (director); Daniel Stiepleman (scre...</td>\n",
              "      <td>Drama History</td>\n",
              "      <td>Felicity Jones</td>\n",
              "      <td>Armie Hammer</td>\n",
              "      <td>Justin Theroux</td>\n",
              "      <td>Mimi Leder</td>\n",
              "    </tr>\n",
              "    <tr>\n",
              "      <th>267</th>\n",
              "      <td>Destroyer</td>\n",
              "      <td>Karyn Kusama (director); Phil Hay, Matt Manfre...</td>\n",
              "      <td>Thriller Crime Drama Action</td>\n",
              "      <td>Nicole Kidman</td>\n",
              "      <td>Sebastian Stan</td>\n",
              "      <td>Toby Kebbell</td>\n",
              "      <td>Karyn Kusama</td>\n",
              "    </tr>\n",
              "    <tr>\n",
              "      <th>268</th>\n",
              "      <td>Black Mirror: Bandersnatch</td>\n",
              "      <td>David Slade (director); Charlie Brooker (scree...</td>\n",
              "      <td>Science Fiction Mystery Drama Thriller TV Movie</td>\n",
              "      <td>Fionn Whitehead</td>\n",
              "      <td>Will Poulter</td>\n",
              "      <td>Asim Chaudhry</td>\n",
              "      <td>David Slade</td>\n",
              "    </tr>\n",
              "  </tbody>\n",
              "</table>\n",
              "<p>269 rows × 7 columns</p>\n",
              "</div>"
            ],
            "text/plain": [
              "                    movie_title  ...       director_name\n",
              "0       Insidious: The Last Key  ...        Adam Robitel\n",
              "1              The Strange Ones  ...    Lauren Wolkstein\n",
              "2                      Stratton  ...          Simon West\n",
              "3                 Sweet Country  ...    Warwick Thornton\n",
              "4                  The Commuter  ...  Jaume Collet-Serra\n",
              "..                          ...  ...                 ...\n",
              "264             Holmes & Watson  ...          Etan Cohen\n",
              "265                        Vice  ...          Adam McKay\n",
              "266         On the Basis of Sex  ...          Mimi Leder\n",
              "267                   Destroyer  ...        Karyn Kusama\n",
              "268  Black Mirror: Bandersnatch  ...         David Slade\n",
              "\n",
              "[269 rows x 7 columns]"
            ]
          },
          "metadata": {
            "tags": []
          },
          "execution_count": 132
        }
      ]
    },
    {
      "cell_type": "code",
      "metadata": {
        "id": "ZfD9GPK1g6Yd"
      },
      "source": [
        "df_2018 = df_2018.rename(columns={'Title':'movie_title'})"
      ],
      "execution_count": null,
      "outputs": []
    },
    {
      "cell_type": "code",
      "metadata": {
        "id": "z_ESWGGKg6Yd"
      },
      "source": [
        "new_df18 = df_2018.loc[:,['director_name','actor_1_name','actor_2_name','actor_3_name','genres','movie_title']]"
      ],
      "execution_count": null,
      "outputs": []
    },
    {
      "cell_type": "code",
      "metadata": {
        "colab": {
          "base_uri": "https://localhost:8080/",
          "height": 402
        },
        "id": "Qvs_zD5Wg6Yd",
        "outputId": "4cb395a5-fbb0-4387-8ac9-dc937a70d493"
      },
      "source": [
        "new_df18"
      ],
      "execution_count": null,
      "outputs": [
        {
          "output_type": "execute_result",
          "data": {
            "text/html": [
              "<div>\n",
              "<style scoped>\n",
              "    .dataframe tbody tr th:only-of-type {\n",
              "        vertical-align: middle;\n",
              "    }\n",
              "\n",
              "    .dataframe tbody tr th {\n",
              "        vertical-align: top;\n",
              "    }\n",
              "\n",
              "    .dataframe thead th {\n",
              "        text-align: right;\n",
              "    }\n",
              "</style>\n",
              "<table border=\"1\" class=\"dataframe\">\n",
              "  <thead>\n",
              "    <tr style=\"text-align: right;\">\n",
              "      <th></th>\n",
              "      <th>director_name</th>\n",
              "      <th>actor_1_name</th>\n",
              "      <th>actor_2_name</th>\n",
              "      <th>actor_3_name</th>\n",
              "      <th>genres</th>\n",
              "      <th>movie_title</th>\n",
              "    </tr>\n",
              "  </thead>\n",
              "  <tbody>\n",
              "    <tr>\n",
              "      <th>0</th>\n",
              "      <td>Adam Robitel</td>\n",
              "      <td>Lin Shaye</td>\n",
              "      <td>Angus Sampson</td>\n",
              "      <td>Leigh Whannell</td>\n",
              "      <td>Horror Mystery Thriller</td>\n",
              "      <td>Insidious: The Last Key</td>\n",
              "    </tr>\n",
              "    <tr>\n",
              "      <th>1</th>\n",
              "      <td>Lauren Wolkstein</td>\n",
              "      <td>Alex Pettyfer</td>\n",
              "      <td>James Freedson-Jackson</td>\n",
              "      <td>Emily Althaus</td>\n",
              "      <td>Thriller Drama</td>\n",
              "      <td>The Strange Ones</td>\n",
              "    </tr>\n",
              "    <tr>\n",
              "      <th>2</th>\n",
              "      <td>Simon West</td>\n",
              "      <td>Dominic Cooper</td>\n",
              "      <td>Austin Stowell</td>\n",
              "      <td>Gemma Chan</td>\n",
              "      <td>Action Thriller</td>\n",
              "      <td>Stratton</td>\n",
              "    </tr>\n",
              "    <tr>\n",
              "      <th>3</th>\n",
              "      <td>Warwick Thornton</td>\n",
              "      <td>Bryan Brown</td>\n",
              "      <td>Sam Neill</td>\n",
              "      <td>NaN</td>\n",
              "      <td>Drama History Western</td>\n",
              "      <td>Sweet Country</td>\n",
              "    </tr>\n",
              "    <tr>\n",
              "      <th>4</th>\n",
              "      <td>Jaume Collet-Serra</td>\n",
              "      <td>Liam Neeson</td>\n",
              "      <td>Vera Farmiga</td>\n",
              "      <td>Patrick Wilson</td>\n",
              "      <td>Action Thriller</td>\n",
              "      <td>The Commuter</td>\n",
              "    </tr>\n",
              "    <tr>\n",
              "      <th>...</th>\n",
              "      <td>...</td>\n",
              "      <td>...</td>\n",
              "      <td>...</td>\n",
              "      <td>...</td>\n",
              "      <td>...</td>\n",
              "      <td>...</td>\n",
              "    </tr>\n",
              "    <tr>\n",
              "      <th>264</th>\n",
              "      <td>Etan Cohen</td>\n",
              "      <td>Will Ferrell</td>\n",
              "      <td>John C. Reilly</td>\n",
              "      <td>Rebecca Hall</td>\n",
              "      <td>Mystery Adventure Comedy Crime</td>\n",
              "      <td>Holmes &amp; Watson</td>\n",
              "    </tr>\n",
              "    <tr>\n",
              "      <th>265</th>\n",
              "      <td>Adam McKay</td>\n",
              "      <td>Christian Bale</td>\n",
              "      <td>Amy Adams</td>\n",
              "      <td>Steve Carell</td>\n",
              "      <td>Thriller Science Fiction Action Adventure</td>\n",
              "      <td>Vice</td>\n",
              "    </tr>\n",
              "    <tr>\n",
              "      <th>266</th>\n",
              "      <td>Mimi Leder</td>\n",
              "      <td>Felicity Jones</td>\n",
              "      <td>Armie Hammer</td>\n",
              "      <td>Justin Theroux</td>\n",
              "      <td>Drama History</td>\n",
              "      <td>On the Basis of Sex</td>\n",
              "    </tr>\n",
              "    <tr>\n",
              "      <th>267</th>\n",
              "      <td>Karyn Kusama</td>\n",
              "      <td>Nicole Kidman</td>\n",
              "      <td>Sebastian Stan</td>\n",
              "      <td>Toby Kebbell</td>\n",
              "      <td>Thriller Crime Drama Action</td>\n",
              "      <td>Destroyer</td>\n",
              "    </tr>\n",
              "    <tr>\n",
              "      <th>268</th>\n",
              "      <td>David Slade</td>\n",
              "      <td>Fionn Whitehead</td>\n",
              "      <td>Will Poulter</td>\n",
              "      <td>Asim Chaudhry</td>\n",
              "      <td>Science Fiction Mystery Drama Thriller TV Movie</td>\n",
              "      <td>Black Mirror: Bandersnatch</td>\n",
              "    </tr>\n",
              "  </tbody>\n",
              "</table>\n",
              "<p>269 rows × 6 columns</p>\n",
              "</div>"
            ],
            "text/plain": [
              "          director_name  ...                 movie_title\n",
              "0          Adam Robitel  ...     Insidious: The Last Key\n",
              "1      Lauren Wolkstein  ...            The Strange Ones\n",
              "2            Simon West  ...                    Stratton\n",
              "3      Warwick Thornton  ...               Sweet Country\n",
              "4    Jaume Collet-Serra  ...                The Commuter\n",
              "..                  ...  ...                         ...\n",
              "264          Etan Cohen  ...             Holmes & Watson\n",
              "265          Adam McKay  ...                        Vice\n",
              "266          Mimi Leder  ...         On the Basis of Sex\n",
              "267        Karyn Kusama  ...                   Destroyer\n",
              "268         David Slade  ...  Black Mirror: Bandersnatch\n",
              "\n",
              "[269 rows x 6 columns]"
            ]
          },
          "metadata": {
            "tags": []
          },
          "execution_count": 135
        }
      ]
    },
    {
      "cell_type": "code",
      "metadata": {
        "id": "gvffWUH5g6Yd"
      },
      "source": [
        "new_df18['actor_2_name'] = new_df18['actor_2_name'].replace(np.nan, 'unknown')\n",
        "new_df18['actor_3_name'] = new_df18['actor_3_name'].replace(np.nan, 'unknown')"
      ],
      "execution_count": null,
      "outputs": []
    },
    {
      "cell_type": "code",
      "metadata": {
        "id": "4MWsRcBag6Ye"
      },
      "source": [
        "new_df18['movie_title'] = new_df18['movie_title'].str.lower()"
      ],
      "execution_count": null,
      "outputs": []
    },
    {
      "cell_type": "code",
      "metadata": {
        "id": "bnVo-oqEg6Ye"
      },
      "source": [
        "new_df18['comb'] = new_df18['actor_1_name'] + ' ' + new_df18['actor_2_name'] + ' '+ new_df18['actor_3_name'] + ' '+ new_df18['director_name'] +' ' + new_df18['genres']"
      ],
      "execution_count": null,
      "outputs": []
    },
    {
      "cell_type": "code",
      "metadata": {
        "colab": {
          "base_uri": "https://localhost:8080/",
          "height": 469
        },
        "id": "oO8ab5rMg6Ye",
        "outputId": "97925d2d-704b-4e3a-d132-414a096f2dd6"
      },
      "source": [
        "new_df18"
      ],
      "execution_count": null,
      "outputs": [
        {
          "output_type": "execute_result",
          "data": {
            "text/html": [
              "<div>\n",
              "<style scoped>\n",
              "    .dataframe tbody tr th:only-of-type {\n",
              "        vertical-align: middle;\n",
              "    }\n",
              "\n",
              "    .dataframe tbody tr th {\n",
              "        vertical-align: top;\n",
              "    }\n",
              "\n",
              "    .dataframe thead th {\n",
              "        text-align: right;\n",
              "    }\n",
              "</style>\n",
              "<table border=\"1\" class=\"dataframe\">\n",
              "  <thead>\n",
              "    <tr style=\"text-align: right;\">\n",
              "      <th></th>\n",
              "      <th>director_name</th>\n",
              "      <th>actor_1_name</th>\n",
              "      <th>actor_2_name</th>\n",
              "      <th>actor_3_name</th>\n",
              "      <th>genres</th>\n",
              "      <th>movie_title</th>\n",
              "      <th>comb</th>\n",
              "    </tr>\n",
              "  </thead>\n",
              "  <tbody>\n",
              "    <tr>\n",
              "      <th>0</th>\n",
              "      <td>Adam Robitel</td>\n",
              "      <td>Lin Shaye</td>\n",
              "      <td>Angus Sampson</td>\n",
              "      <td>Leigh Whannell</td>\n",
              "      <td>Horror Mystery Thriller</td>\n",
              "      <td>insidious: the last key</td>\n",
              "      <td>Lin Shaye Angus Sampson Leigh Whannell Adam Ro...</td>\n",
              "    </tr>\n",
              "    <tr>\n",
              "      <th>1</th>\n",
              "      <td>Lauren Wolkstein</td>\n",
              "      <td>Alex Pettyfer</td>\n",
              "      <td>James Freedson-Jackson</td>\n",
              "      <td>Emily Althaus</td>\n",
              "      <td>Thriller Drama</td>\n",
              "      <td>the strange ones</td>\n",
              "      <td>Alex Pettyfer James Freedson-Jackson Emily Alt...</td>\n",
              "    </tr>\n",
              "    <tr>\n",
              "      <th>2</th>\n",
              "      <td>Simon West</td>\n",
              "      <td>Dominic Cooper</td>\n",
              "      <td>Austin Stowell</td>\n",
              "      <td>Gemma Chan</td>\n",
              "      <td>Action Thriller</td>\n",
              "      <td>stratton</td>\n",
              "      <td>Dominic Cooper Austin Stowell Gemma Chan Simon...</td>\n",
              "    </tr>\n",
              "    <tr>\n",
              "      <th>3</th>\n",
              "      <td>Warwick Thornton</td>\n",
              "      <td>Bryan Brown</td>\n",
              "      <td>Sam Neill</td>\n",
              "      <td>unknown</td>\n",
              "      <td>Drama History Western</td>\n",
              "      <td>sweet country</td>\n",
              "      <td>Bryan Brown Sam Neill unknown Warwick Thornton...</td>\n",
              "    </tr>\n",
              "    <tr>\n",
              "      <th>4</th>\n",
              "      <td>Jaume Collet-Serra</td>\n",
              "      <td>Liam Neeson</td>\n",
              "      <td>Vera Farmiga</td>\n",
              "      <td>Patrick Wilson</td>\n",
              "      <td>Action Thriller</td>\n",
              "      <td>the commuter</td>\n",
              "      <td>Liam Neeson Vera Farmiga Patrick Wilson Jaume ...</td>\n",
              "    </tr>\n",
              "    <tr>\n",
              "      <th>...</th>\n",
              "      <td>...</td>\n",
              "      <td>...</td>\n",
              "      <td>...</td>\n",
              "      <td>...</td>\n",
              "      <td>...</td>\n",
              "      <td>...</td>\n",
              "      <td>...</td>\n",
              "    </tr>\n",
              "    <tr>\n",
              "      <th>264</th>\n",
              "      <td>Etan Cohen</td>\n",
              "      <td>Will Ferrell</td>\n",
              "      <td>John C. Reilly</td>\n",
              "      <td>Rebecca Hall</td>\n",
              "      <td>Mystery Adventure Comedy Crime</td>\n",
              "      <td>holmes &amp; watson</td>\n",
              "      <td>Will Ferrell John C. Reilly Rebecca Hall Etan ...</td>\n",
              "    </tr>\n",
              "    <tr>\n",
              "      <th>265</th>\n",
              "      <td>Adam McKay</td>\n",
              "      <td>Christian Bale</td>\n",
              "      <td>Amy Adams</td>\n",
              "      <td>Steve Carell</td>\n",
              "      <td>Thriller Science Fiction Action Adventure</td>\n",
              "      <td>vice</td>\n",
              "      <td>Christian Bale Amy Adams Steve Carell Adam McK...</td>\n",
              "    </tr>\n",
              "    <tr>\n",
              "      <th>266</th>\n",
              "      <td>Mimi Leder</td>\n",
              "      <td>Felicity Jones</td>\n",
              "      <td>Armie Hammer</td>\n",
              "      <td>Justin Theroux</td>\n",
              "      <td>Drama History</td>\n",
              "      <td>on the basis of sex</td>\n",
              "      <td>Felicity Jones Armie Hammer Justin Theroux Mim...</td>\n",
              "    </tr>\n",
              "    <tr>\n",
              "      <th>267</th>\n",
              "      <td>Karyn Kusama</td>\n",
              "      <td>Nicole Kidman</td>\n",
              "      <td>Sebastian Stan</td>\n",
              "      <td>Toby Kebbell</td>\n",
              "      <td>Thriller Crime Drama Action</td>\n",
              "      <td>destroyer</td>\n",
              "      <td>Nicole Kidman Sebastian Stan Toby Kebbell Kary...</td>\n",
              "    </tr>\n",
              "    <tr>\n",
              "      <th>268</th>\n",
              "      <td>David Slade</td>\n",
              "      <td>Fionn Whitehead</td>\n",
              "      <td>Will Poulter</td>\n",
              "      <td>Asim Chaudhry</td>\n",
              "      <td>Science Fiction Mystery Drama Thriller TV Movie</td>\n",
              "      <td>black mirror: bandersnatch</td>\n",
              "      <td>Fionn Whitehead Will Poulter Asim Chaudhry Dav...</td>\n",
              "    </tr>\n",
              "  </tbody>\n",
              "</table>\n",
              "<p>269 rows × 7 columns</p>\n",
              "</div>"
            ],
            "text/plain": [
              "          director_name  ...                                               comb\n",
              "0          Adam Robitel  ...  Lin Shaye Angus Sampson Leigh Whannell Adam Ro...\n",
              "1      Lauren Wolkstein  ...  Alex Pettyfer James Freedson-Jackson Emily Alt...\n",
              "2            Simon West  ...  Dominic Cooper Austin Stowell Gemma Chan Simon...\n",
              "3      Warwick Thornton  ...  Bryan Brown Sam Neill unknown Warwick Thornton...\n",
              "4    Jaume Collet-Serra  ...  Liam Neeson Vera Farmiga Patrick Wilson Jaume ...\n",
              "..                  ...  ...                                                ...\n",
              "264          Etan Cohen  ...  Will Ferrell John C. Reilly Rebecca Hall Etan ...\n",
              "265          Adam McKay  ...  Christian Bale Amy Adams Steve Carell Adam McK...\n",
              "266          Mimi Leder  ...  Felicity Jones Armie Hammer Justin Theroux Mim...\n",
              "267        Karyn Kusama  ...  Nicole Kidman Sebastian Stan Toby Kebbell Kary...\n",
              "268         David Slade  ...  Fionn Whitehead Will Poulter Asim Chaudhry Dav...\n",
              "\n",
              "[269 rows x 7 columns]"
            ]
          },
          "metadata": {
            "tags": []
          },
          "execution_count": 139
        }
      ]
    },
    {
      "cell_type": "markdown",
      "metadata": {
        "id": "QmJ8mqRsg6Ye"
      },
      "source": [
        "## Extracting features of 2019 movies from Wikipedia"
      ]
    },
    {
      "cell_type": "code",
      "metadata": {
        "id": "TqqeuK_Ug6Ye"
      },
      "source": [
        "link = \"https://en.wikipedia.org/wiki/List_of_American_films_of_2019\"\n",
        "df1 = pd.read_html(link, header=0)[2]\n",
        "df2 = pd.read_html(link, header=0)[3]\n",
        "df3 = pd.read_html(link, header=0)[4]\n",
        "df4 = pd.read_html(link, header=0)[5]"
      ],
      "execution_count": null,
      "outputs": []
    },
    {
      "cell_type": "code",
      "metadata": {
        "id": "aF08wnSzg6Yf"
      },
      "source": [
        "df = df1.append(df2.append(df3.append(df4,ignore_index=True),ignore_index=True),ignore_index=True)"
      ],
      "execution_count": null,
      "outputs": []
    },
    {
      "cell_type": "code",
      "metadata": {
        "colab": {
          "base_uri": "https://localhost:8080/",
          "height": 402
        },
        "id": "qiN-6TD6g6Yf",
        "outputId": "967115fc-38a1-4966-d7ba-a3a9b8762851"
      },
      "source": [
        "df"
      ],
      "execution_count": null,
      "outputs": [
        {
          "output_type": "execute_result",
          "data": {
            "text/html": [
              "<div>\n",
              "<style scoped>\n",
              "    .dataframe tbody tr th:only-of-type {\n",
              "        vertical-align: middle;\n",
              "    }\n",
              "\n",
              "    .dataframe tbody tr th {\n",
              "        vertical-align: top;\n",
              "    }\n",
              "\n",
              "    .dataframe thead th {\n",
              "        text-align: right;\n",
              "    }\n",
              "</style>\n",
              "<table border=\"1\" class=\"dataframe\">\n",
              "  <thead>\n",
              "    <tr style=\"text-align: right;\">\n",
              "      <th></th>\n",
              "      <th>Opening</th>\n",
              "      <th>Opening.1</th>\n",
              "      <th>Title</th>\n",
              "      <th>Production company</th>\n",
              "      <th>Cast and crew</th>\n",
              "      <th>Ref.</th>\n",
              "    </tr>\n",
              "  </thead>\n",
              "  <tbody>\n",
              "    <tr>\n",
              "      <th>0</th>\n",
              "      <td>JANUARY</td>\n",
              "      <td>4</td>\n",
              "      <td>Escape Room</td>\n",
              "      <td>Columbia Pictures</td>\n",
              "      <td>Adam Robitel (director); Bragi F. Schut, Maria...</td>\n",
              "      <td>[2]</td>\n",
              "    </tr>\n",
              "    <tr>\n",
              "      <th>1</th>\n",
              "      <td>JANUARY</td>\n",
              "      <td>4</td>\n",
              "      <td>Rust Creek</td>\n",
              "      <td>IFC Films</td>\n",
              "      <td>Jen McGowan (director); Julie Lipson (screenpl...</td>\n",
              "      <td>[3]</td>\n",
              "    </tr>\n",
              "    <tr>\n",
              "      <th>2</th>\n",
              "      <td>JANUARY</td>\n",
              "      <td>4</td>\n",
              "      <td>American Hangman</td>\n",
              "      <td>Hangman Justice Productions</td>\n",
              "      <td>Wilson Coneybeare (director/screenplay); Donal...</td>\n",
              "      <td>[4]</td>\n",
              "    </tr>\n",
              "    <tr>\n",
              "      <th>3</th>\n",
              "      <td>JANUARY</td>\n",
              "      <td>11</td>\n",
              "      <td>A Dog's Way Home</td>\n",
              "      <td>Columbia Pictures</td>\n",
              "      <td>Charles Martin Smith (director); W. Bruce Came...</td>\n",
              "      <td>[5]</td>\n",
              "    </tr>\n",
              "    <tr>\n",
              "      <th>4</th>\n",
              "      <td>JANUARY</td>\n",
              "      <td>11</td>\n",
              "      <td>The Upside</td>\n",
              "      <td>STX Entertainment</td>\n",
              "      <td>Neil Burger (director); Jon Hartmere (screenpl...</td>\n",
              "      <td>[6]</td>\n",
              "    </tr>\n",
              "    <tr>\n",
              "      <th>...</th>\n",
              "      <td>...</td>\n",
              "      <td>...</td>\n",
              "      <td>...</td>\n",
              "      <td>...</td>\n",
              "      <td>...</td>\n",
              "      <td>...</td>\n",
              "    </tr>\n",
              "    <tr>\n",
              "      <th>237</th>\n",
              "      <td>DECEMBER</td>\n",
              "      <td>25</td>\n",
              "      <td>Spies in Disguise</td>\n",
              "      <td>20th Century Fox / Blue Sky Studios / Chernin ...</td>\n",
              "      <td>Nick Bruno, Troy Quane (directors); Brad Copel...</td>\n",
              "      <td>[132]</td>\n",
              "    </tr>\n",
              "    <tr>\n",
              "      <th>238</th>\n",
              "      <td>DECEMBER</td>\n",
              "      <td>25</td>\n",
              "      <td>Little Women</td>\n",
              "      <td>Columbia Pictures / Regency Enterprises</td>\n",
              "      <td>Greta Gerwig (director/screenplay); Saoirse Ro...</td>\n",
              "      <td>[221]</td>\n",
              "    </tr>\n",
              "    <tr>\n",
              "      <th>239</th>\n",
              "      <td>DECEMBER</td>\n",
              "      <td>25</td>\n",
              "      <td>1917</td>\n",
              "      <td>Universal Pictures / DreamWorks Pictures / Ent...</td>\n",
              "      <td>Sam Mendes (director/screenplay); Krysty Wilso...</td>\n",
              "      <td>[222]</td>\n",
              "    </tr>\n",
              "    <tr>\n",
              "      <th>240</th>\n",
              "      <td>DECEMBER</td>\n",
              "      <td>25</td>\n",
              "      <td>Just Mercy</td>\n",
              "      <td>Warner Bros. Pictures / Participant Media</td>\n",
              "      <td>Destin Daniel Cretton (director/screenplay), A...</td>\n",
              "      <td>[223]</td>\n",
              "    </tr>\n",
              "    <tr>\n",
              "      <th>241</th>\n",
              "      <td>DECEMBER</td>\n",
              "      <td>27</td>\n",
              "      <td>Clemency</td>\n",
              "      <td>Neon</td>\n",
              "      <td>Chinonye Chukwu (director/screenplay); Alfre W...</td>\n",
              "      <td>[224]</td>\n",
              "    </tr>\n",
              "  </tbody>\n",
              "</table>\n",
              "<p>242 rows × 6 columns</p>\n",
              "</div>"
            ],
            "text/plain": [
              "      Opening  ...   Ref.\n",
              "0     JANUARY  ...    [2]\n",
              "1     JANUARY  ...    [3]\n",
              "2     JANUARY  ...    [4]\n",
              "3     JANUARY  ...    [5]\n",
              "4     JANUARY  ...    [6]\n",
              "..        ...  ...    ...\n",
              "237  DECEMBER  ...  [132]\n",
              "238  DECEMBER  ...  [221]\n",
              "239  DECEMBER  ...  [222]\n",
              "240  DECEMBER  ...  [223]\n",
              "241  DECEMBER  ...  [224]\n",
              "\n",
              "[242 rows x 6 columns]"
            ]
          },
          "metadata": {
            "tags": []
          },
          "execution_count": 142
        }
      ]
    },
    {
      "cell_type": "code",
      "metadata": {
        "id": "44w-ttyyg6Yf"
      },
      "source": [
        "df['genres'] = df['Title'].map(lambda x: get_genre(str(x)))"
      ],
      "execution_count": null,
      "outputs": []
    },
    {
      "cell_type": "code",
      "metadata": {
        "id": "zsKaOw8Rg6Yf"
      },
      "source": [
        "df_2019 = df[['Title','Cast and crew','genres']]"
      ],
      "execution_count": null,
      "outputs": []
    },
    {
      "cell_type": "code",
      "metadata": {
        "colab": {
          "base_uri": "https://localhost:8080/",
          "height": 402
        },
        "id": "p492F8A3g6Yf",
        "outputId": "d699e80e-7ae2-4848-a0b3-378458898eb6"
      },
      "source": [
        "df_2019"
      ],
      "execution_count": null,
      "outputs": [
        {
          "output_type": "execute_result",
          "data": {
            "text/html": [
              "<div>\n",
              "<style scoped>\n",
              "    .dataframe tbody tr th:only-of-type {\n",
              "        vertical-align: middle;\n",
              "    }\n",
              "\n",
              "    .dataframe tbody tr th {\n",
              "        vertical-align: top;\n",
              "    }\n",
              "\n",
              "    .dataframe thead th {\n",
              "        text-align: right;\n",
              "    }\n",
              "</style>\n",
              "<table border=\"1\" class=\"dataframe\">\n",
              "  <thead>\n",
              "    <tr style=\"text-align: right;\">\n",
              "      <th></th>\n",
              "      <th>Title</th>\n",
              "      <th>Cast and crew</th>\n",
              "      <th>genres</th>\n",
              "    </tr>\n",
              "  </thead>\n",
              "  <tbody>\n",
              "    <tr>\n",
              "      <th>0</th>\n",
              "      <td>Escape Room</td>\n",
              "      <td>Adam Robitel (director); Bragi F. Schut, Maria...</td>\n",
              "      <td>Thriller Action Mystery Adventure Horror</td>\n",
              "    </tr>\n",
              "    <tr>\n",
              "      <th>1</th>\n",
              "      <td>Rust Creek</td>\n",
              "      <td>Jen McGowan (director); Julie Lipson (screenpl...</td>\n",
              "      <td>Thriller Drama</td>\n",
              "    </tr>\n",
              "    <tr>\n",
              "      <th>2</th>\n",
              "      <td>American Hangman</td>\n",
              "      <td>Wilson Coneybeare (director/screenplay); Donal...</td>\n",
              "      <td>Thriller</td>\n",
              "    </tr>\n",
              "    <tr>\n",
              "      <th>3</th>\n",
              "      <td>A Dog's Way Home</td>\n",
              "      <td>Charles Martin Smith (director); W. Bruce Came...</td>\n",
              "      <td>Drama Adventure Family</td>\n",
              "    </tr>\n",
              "    <tr>\n",
              "      <th>4</th>\n",
              "      <td>The Upside</td>\n",
              "      <td>Neil Burger (director); Jon Hartmere (screenpl...</td>\n",
              "      <td>Comedy Drama</td>\n",
              "    </tr>\n",
              "    <tr>\n",
              "      <th>...</th>\n",
              "      <td>...</td>\n",
              "      <td>...</td>\n",
              "      <td>...</td>\n",
              "    </tr>\n",
              "    <tr>\n",
              "      <th>237</th>\n",
              "      <td>Spies in Disguise</td>\n",
              "      <td>Nick Bruno, Troy Quane (directors); Brad Copel...</td>\n",
              "      <td>Animation Action Adventure Comedy Family</td>\n",
              "    </tr>\n",
              "    <tr>\n",
              "      <th>238</th>\n",
              "      <td>Little Women</td>\n",
              "      <td>Greta Gerwig (director/screenplay); Saoirse Ro...</td>\n",
              "      <td>Drama Romance</td>\n",
              "    </tr>\n",
              "    <tr>\n",
              "      <th>239</th>\n",
              "      <td>1917</td>\n",
              "      <td>Sam Mendes (director/screenplay); Krysty Wilso...</td>\n",
              "      <td>War Drama Action Thriller</td>\n",
              "    </tr>\n",
              "    <tr>\n",
              "      <th>240</th>\n",
              "      <td>Just Mercy</td>\n",
              "      <td>Destin Daniel Cretton (director/screenplay), A...</td>\n",
              "      <td>Drama Crime History</td>\n",
              "    </tr>\n",
              "    <tr>\n",
              "      <th>241</th>\n",
              "      <td>Clemency</td>\n",
              "      <td>Chinonye Chukwu (director/screenplay); Alfre W...</td>\n",
              "      <td>Drama</td>\n",
              "    </tr>\n",
              "  </tbody>\n",
              "</table>\n",
              "<p>242 rows × 3 columns</p>\n",
              "</div>"
            ],
            "text/plain": [
              "                 Title  ...                                    genres\n",
              "0          Escape Room  ...  Thriller Action Mystery Adventure Horror\n",
              "1           Rust Creek  ...                            Thriller Drama\n",
              "2     American Hangman  ...                                  Thriller\n",
              "3     A Dog's Way Home  ...                    Drama Adventure Family\n",
              "4           The Upside  ...                              Comedy Drama\n",
              "..                 ...  ...                                       ...\n",
              "237  Spies in Disguise  ...  Animation Action Adventure Comedy Family\n",
              "238       Little Women  ...                             Drama Romance\n",
              "239               1917  ...                 War Drama Action Thriller\n",
              "240         Just Mercy  ...                       Drama Crime History\n",
              "241           Clemency  ...                                     Drama\n",
              "\n",
              "[242 rows x 3 columns]"
            ]
          },
          "metadata": {
            "tags": []
          },
          "execution_count": 145
        }
      ]
    },
    {
      "cell_type": "code",
      "metadata": {
        "id": "qTOn03wfg6Yg"
      },
      "source": [
        "def get_director(x):\n",
        "    if \" (director)\" in x:\n",
        "        return x.split(\" (director)\")[0]\n",
        "    elif \" (directors)\" in x:\n",
        "        return x.split(\" (directors)\")[0]\n",
        "    else:\n",
        "        return x.split(\" (director/screenplay)\")[0]"
      ],
      "execution_count": null,
      "outputs": []
    },
    {
      "cell_type": "code",
      "metadata": {
        "colab": {
          "base_uri": "https://localhost:8080/"
        },
        "id": "WzCqdTCsg6Yg",
        "outputId": "a7af4aee-b5c9-434f-e5fe-1bf80a8f163b"
      },
      "source": [
        "df_2019['director_name'] = df_2019['Cast and crew'].map(lambda x: get_director(str(x)))"
      ],
      "execution_count": null,
      "outputs": [
        {
          "output_type": "stream",
          "text": [
            "/usr/local/lib/python3.7/dist-packages/ipykernel_launcher.py:1: SettingWithCopyWarning: \n",
            "A value is trying to be set on a copy of a slice from a DataFrame.\n",
            "Try using .loc[row_indexer,col_indexer] = value instead\n",
            "\n",
            "See the caveats in the documentation: https://pandas.pydata.org/pandas-docs/stable/user_guide/indexing.html#returning-a-view-versus-a-copy\n",
            "  \"\"\"Entry point for launching an IPython kernel.\n"
          ],
          "name": "stderr"
        }
      ]
    },
    {
      "cell_type": "code",
      "metadata": {
        "id": "_Q2luTHRg6Yg"
      },
      "source": [
        "def get_actor1(x):\n",
        "    return ((x.split(\"screenplay); \")[-1]).split(\", \")[0])"
      ],
      "execution_count": null,
      "outputs": []
    },
    {
      "cell_type": "code",
      "metadata": {
        "colab": {
          "base_uri": "https://localhost:8080/"
        },
        "id": "tv_goIkfg6Yg",
        "outputId": "003af0a3-8ecf-45ed-feb6-e0638e3d9965"
      },
      "source": [
        "df_2019['actor_1_name'] = df_2019['Cast and crew'].map(lambda x: get_actor1(x))"
      ],
      "execution_count": null,
      "outputs": [
        {
          "output_type": "stream",
          "text": [
            "/usr/local/lib/python3.7/dist-packages/ipykernel_launcher.py:1: SettingWithCopyWarning: \n",
            "A value is trying to be set on a copy of a slice from a DataFrame.\n",
            "Try using .loc[row_indexer,col_indexer] = value instead\n",
            "\n",
            "See the caveats in the documentation: https://pandas.pydata.org/pandas-docs/stable/user_guide/indexing.html#returning-a-view-versus-a-copy\n",
            "  \"\"\"Entry point for launching an IPython kernel.\n"
          ],
          "name": "stderr"
        }
      ]
    },
    {
      "cell_type": "code",
      "metadata": {
        "id": "LjNihSnxg6Yg"
      },
      "source": [
        "def get_actor2(x):\n",
        "    if len((x.split(\"screenplay); \")[-1]).split(\", \")) < 2:\n",
        "        return np.NaN\n",
        "    else:\n",
        "        return ((x.split(\"screenplay); \")[-1]).split(\", \")[1])"
      ],
      "execution_count": null,
      "outputs": []
    },
    {
      "cell_type": "code",
      "metadata": {
        "colab": {
          "base_uri": "https://localhost:8080/"
        },
        "id": "HPiZo1gTg6Yh",
        "outputId": "48bea307-c59d-4c77-c2a3-91529d8cffab"
      },
      "source": [
        "df_2019['actor_2_name'] = df_2019['Cast and crew'].map(lambda x: get_actor2(x))"
      ],
      "execution_count": null,
      "outputs": [
        {
          "output_type": "stream",
          "text": [
            "/usr/local/lib/python3.7/dist-packages/ipykernel_launcher.py:1: SettingWithCopyWarning: \n",
            "A value is trying to be set on a copy of a slice from a DataFrame.\n",
            "Try using .loc[row_indexer,col_indexer] = value instead\n",
            "\n",
            "See the caveats in the documentation: https://pandas.pydata.org/pandas-docs/stable/user_guide/indexing.html#returning-a-view-versus-a-copy\n",
            "  \"\"\"Entry point for launching an IPython kernel.\n"
          ],
          "name": "stderr"
        }
      ]
    },
    {
      "cell_type": "code",
      "metadata": {
        "id": "VYyZkDQQg6Yh"
      },
      "source": [
        "def get_actor3(x):\n",
        "    if len((x.split(\"screenplay); \")[-1]).split(\", \")) < 3:\n",
        "        return np.NaN\n",
        "    else:\n",
        "        return ((x.split(\"screenplay); \")[-1]).split(\", \")[2])"
      ],
      "execution_count": null,
      "outputs": []
    },
    {
      "cell_type": "code",
      "metadata": {
        "id": "edmWO06Tg6Yh"
      },
      "source": [
        "df_2019['actor_3_name'] = df_2019['Cast and crew'].map(lambda x: get_actor3(x))"
      ],
      "execution_count": null,
      "outputs": []
    },
    {
      "cell_type": "code",
      "metadata": {
        "id": "yosIXraFg6Yh"
      },
      "source": [
        "df_2019 = df_2019.rename(columns={'Title':'movie_title'})"
      ],
      "execution_count": null,
      "outputs": []
    },
    {
      "cell_type": "code",
      "metadata": {
        "id": "5Nr9x8syg6Yh"
      },
      "source": [
        "new_df19 = df_2019.loc[:,['director_name','actor_1_name','actor_2_name','actor_3_name','genres','movie_title']]"
      ],
      "execution_count": null,
      "outputs": []
    },
    {
      "cell_type": "code",
      "metadata": {
        "id": "dIGzZFrVg6Yi"
      },
      "source": [
        "new_df19['actor_2_name'] = new_df19['actor_2_name'].replace(np.nan, 'unknown')\n",
        "new_df19['actor_3_name'] = new_df19['actor_3_name'].replace(np.nan, 'unknown')"
      ],
      "execution_count": null,
      "outputs": []
    },
    {
      "cell_type": "code",
      "metadata": {
        "id": "A0yP-2Myg6Yi"
      },
      "source": [
        "new_df19['movie_title'] = new_df19['movie_title'].str.lower()"
      ],
      "execution_count": null,
      "outputs": []
    },
    {
      "cell_type": "code",
      "metadata": {
        "id": "e40IHaRMg6Yi"
      },
      "source": [
        "new_df19['comb'] = new_df19['actor_1_name'] + ' ' + new_df19['actor_2_name'] + ' '+ new_df19['actor_3_name'] + ' '+ new_df19['director_name'] +' ' + new_df19['genres']"
      ],
      "execution_count": null,
      "outputs": []
    },
    {
      "cell_type": "code",
      "metadata": {
        "colab": {
          "base_uri": "https://localhost:8080/",
          "height": 486
        },
        "id": "A7zs_-vvg6Yi",
        "outputId": "3ad4674c-91f1-45c7-ba88-cdc606ad431a"
      },
      "source": [
        "new_df19"
      ],
      "execution_count": null,
      "outputs": [
        {
          "output_type": "execute_result",
          "data": {
            "text/html": [
              "<div>\n",
              "<style scoped>\n",
              "    .dataframe tbody tr th:only-of-type {\n",
              "        vertical-align: middle;\n",
              "    }\n",
              "\n",
              "    .dataframe tbody tr th {\n",
              "        vertical-align: top;\n",
              "    }\n",
              "\n",
              "    .dataframe thead th {\n",
              "        text-align: right;\n",
              "    }\n",
              "</style>\n",
              "<table border=\"1\" class=\"dataframe\">\n",
              "  <thead>\n",
              "    <tr style=\"text-align: right;\">\n",
              "      <th></th>\n",
              "      <th>director_name</th>\n",
              "      <th>actor_1_name</th>\n",
              "      <th>actor_2_name</th>\n",
              "      <th>actor_3_name</th>\n",
              "      <th>genres</th>\n",
              "      <th>movie_title</th>\n",
              "      <th>comb</th>\n",
              "    </tr>\n",
              "  </thead>\n",
              "  <tbody>\n",
              "    <tr>\n",
              "      <th>0</th>\n",
              "      <td>Adam Robitel</td>\n",
              "      <td>Taylor Russell</td>\n",
              "      <td>Logan Miller</td>\n",
              "      <td>Deborah Ann Woll</td>\n",
              "      <td>Thriller Action Mystery Adventure Horror</td>\n",
              "      <td>escape room</td>\n",
              "      <td>Taylor Russell Logan Miller Deborah Ann Woll A...</td>\n",
              "    </tr>\n",
              "    <tr>\n",
              "      <th>1</th>\n",
              "      <td>Jen McGowan</td>\n",
              "      <td>Hermione Corfield</td>\n",
              "      <td>Jay Paulson</td>\n",
              "      <td>Sean O'Bryan</td>\n",
              "      <td>Thriller Drama</td>\n",
              "      <td>rust creek</td>\n",
              "      <td>Hermione Corfield Jay Paulson Sean O'Bryan Jen...</td>\n",
              "    </tr>\n",
              "    <tr>\n",
              "      <th>2</th>\n",
              "      <td>Wilson Coneybeare</td>\n",
              "      <td>Donald Sutherland</td>\n",
              "      <td>Vincent Kartheiser</td>\n",
              "      <td>Oliver Dennis</td>\n",
              "      <td>Thriller</td>\n",
              "      <td>american hangman</td>\n",
              "      <td>Donald Sutherland Vincent Kartheiser Oliver De...</td>\n",
              "    </tr>\n",
              "    <tr>\n",
              "      <th>3</th>\n",
              "      <td>Charles Martin Smith</td>\n",
              "      <td>Bryce Dallas Howard</td>\n",
              "      <td>Edward James Olmos</td>\n",
              "      <td>Alexandra Shipp</td>\n",
              "      <td>Drama Adventure Family</td>\n",
              "      <td>a dog's way home</td>\n",
              "      <td>Bryce Dallas Howard Edward James Olmos Alexand...</td>\n",
              "    </tr>\n",
              "    <tr>\n",
              "      <th>4</th>\n",
              "      <td>Neil Burger</td>\n",
              "      <td>Bryan Cranston</td>\n",
              "      <td>Kevin Hart</td>\n",
              "      <td>Nicole Kidman</td>\n",
              "      <td>Comedy Drama</td>\n",
              "      <td>the upside</td>\n",
              "      <td>Bryan Cranston Kevin Hart Nicole Kidman Neil B...</td>\n",
              "    </tr>\n",
              "    <tr>\n",
              "      <th>...</th>\n",
              "      <td>...</td>\n",
              "      <td>...</td>\n",
              "      <td>...</td>\n",
              "      <td>...</td>\n",
              "      <td>...</td>\n",
              "      <td>...</td>\n",
              "      <td>...</td>\n",
              "    </tr>\n",
              "    <tr>\n",
              "      <th>237</th>\n",
              "      <td>Nick Bruno, Troy Quane</td>\n",
              "      <td>Will Smith</td>\n",
              "      <td>Tom Holland</td>\n",
              "      <td>Rashida Jones</td>\n",
              "      <td>Animation Action Adventure Comedy Family</td>\n",
              "      <td>spies in disguise</td>\n",
              "      <td>Will Smith Tom Holland Rashida Jones Nick Brun...</td>\n",
              "    </tr>\n",
              "    <tr>\n",
              "      <th>238</th>\n",
              "      <td>Greta Gerwig</td>\n",
              "      <td>Saoirse Ronan</td>\n",
              "      <td>Emma Watson</td>\n",
              "      <td>Florence Pugh</td>\n",
              "      <td>Drama Romance</td>\n",
              "      <td>little women</td>\n",
              "      <td>Saoirse Ronan Emma Watson Florence Pugh Greta ...</td>\n",
              "    </tr>\n",
              "    <tr>\n",
              "      <th>239</th>\n",
              "      <td>Sam Mendes</td>\n",
              "      <td>George MacKay</td>\n",
              "      <td>Dean-Charles Chapman</td>\n",
              "      <td>Mark Strong</td>\n",
              "      <td>War Drama Action Thriller</td>\n",
              "      <td>1917</td>\n",
              "      <td>George MacKay Dean-Charles Chapman Mark Strong...</td>\n",
              "    </tr>\n",
              "    <tr>\n",
              "      <th>240</th>\n",
              "      <td>Destin Daniel Cretton</td>\n",
              "      <td>Michael B. Jordan</td>\n",
              "      <td>Jamie Foxx</td>\n",
              "      <td>Brie Larson</td>\n",
              "      <td>Drama Crime History</td>\n",
              "      <td>just mercy</td>\n",
              "      <td>Michael B. Jordan Jamie Foxx Brie Larson Desti...</td>\n",
              "    </tr>\n",
              "    <tr>\n",
              "      <th>241</th>\n",
              "      <td>Chinonye Chukwu</td>\n",
              "      <td>Alfre Woodard</td>\n",
              "      <td>Wendell Pierce</td>\n",
              "      <td>Aldis Hodge</td>\n",
              "      <td>Drama</td>\n",
              "      <td>clemency</td>\n",
              "      <td>Alfre Woodard Wendell Pierce Aldis Hodge Chino...</td>\n",
              "    </tr>\n",
              "  </tbody>\n",
              "</table>\n",
              "<p>242 rows × 7 columns</p>\n",
              "</div>"
            ],
            "text/plain": [
              "              director_name  ...                                               comb\n",
              "0              Adam Robitel  ...  Taylor Russell Logan Miller Deborah Ann Woll A...\n",
              "1               Jen McGowan  ...  Hermione Corfield Jay Paulson Sean O'Bryan Jen...\n",
              "2         Wilson Coneybeare  ...  Donald Sutherland Vincent Kartheiser Oliver De...\n",
              "3      Charles Martin Smith  ...  Bryce Dallas Howard Edward James Olmos Alexand...\n",
              "4               Neil Burger  ...  Bryan Cranston Kevin Hart Nicole Kidman Neil B...\n",
              "..                      ...  ...                                                ...\n",
              "237  Nick Bruno, Troy Quane  ...  Will Smith Tom Holland Rashida Jones Nick Brun...\n",
              "238            Greta Gerwig  ...  Saoirse Ronan Emma Watson Florence Pugh Greta ...\n",
              "239              Sam Mendes  ...  George MacKay Dean-Charles Chapman Mark Strong...\n",
              "240   Destin Daniel Cretton  ...  Michael B. Jordan Jamie Foxx Brie Larson Desti...\n",
              "241         Chinonye Chukwu  ...  Alfre Woodard Wendell Pierce Aldis Hodge Chino...\n",
              "\n",
              "[242 rows x 7 columns]"
            ]
          },
          "metadata": {
            "tags": []
          },
          "execution_count": 159
        }
      ]
    },
    {
      "cell_type": "code",
      "metadata": {
        "id": "TUATVvWjg6Yi"
      },
      "source": [
        "my_df = new_df18.append(new_df19,ignore_index=True)"
      ],
      "execution_count": null,
      "outputs": []
    },
    {
      "cell_type": "code",
      "metadata": {
        "colab": {
          "base_uri": "https://localhost:8080/",
          "height": 570
        },
        "id": "bzM7MXSkg6Yj",
        "outputId": "ee3a7f60-a5d5-43a6-eb71-b3961eab3599"
      },
      "source": [
        "my_df"
      ],
      "execution_count": null,
      "outputs": [
        {
          "output_type": "execute_result",
          "data": {
            "text/html": [
              "<div>\n",
              "<style scoped>\n",
              "    .dataframe tbody tr th:only-of-type {\n",
              "        vertical-align: middle;\n",
              "    }\n",
              "\n",
              "    .dataframe tbody tr th {\n",
              "        vertical-align: top;\n",
              "    }\n",
              "\n",
              "    .dataframe thead th {\n",
              "        text-align: right;\n",
              "    }\n",
              "</style>\n",
              "<table border=\"1\" class=\"dataframe\">\n",
              "  <thead>\n",
              "    <tr style=\"text-align: right;\">\n",
              "      <th></th>\n",
              "      <th>director_name</th>\n",
              "      <th>actor_1_name</th>\n",
              "      <th>actor_2_name</th>\n",
              "      <th>actor_3_name</th>\n",
              "      <th>genres</th>\n",
              "      <th>movie_title</th>\n",
              "      <th>comb</th>\n",
              "    </tr>\n",
              "  </thead>\n",
              "  <tbody>\n",
              "    <tr>\n",
              "      <th>0</th>\n",
              "      <td>Adam Robitel</td>\n",
              "      <td>Lin Shaye</td>\n",
              "      <td>Angus Sampson</td>\n",
              "      <td>Leigh Whannell</td>\n",
              "      <td>Horror Mystery Thriller</td>\n",
              "      <td>insidious: the last key</td>\n",
              "      <td>Lin Shaye Angus Sampson Leigh Whannell Adam Ro...</td>\n",
              "    </tr>\n",
              "    <tr>\n",
              "      <th>1</th>\n",
              "      <td>Lauren Wolkstein</td>\n",
              "      <td>Alex Pettyfer</td>\n",
              "      <td>James Freedson-Jackson</td>\n",
              "      <td>Emily Althaus</td>\n",
              "      <td>Thriller Drama</td>\n",
              "      <td>the strange ones</td>\n",
              "      <td>Alex Pettyfer James Freedson-Jackson Emily Alt...</td>\n",
              "    </tr>\n",
              "    <tr>\n",
              "      <th>2</th>\n",
              "      <td>Simon West</td>\n",
              "      <td>Dominic Cooper</td>\n",
              "      <td>Austin Stowell</td>\n",
              "      <td>Gemma Chan</td>\n",
              "      <td>Action Thriller</td>\n",
              "      <td>stratton</td>\n",
              "      <td>Dominic Cooper Austin Stowell Gemma Chan Simon...</td>\n",
              "    </tr>\n",
              "    <tr>\n",
              "      <th>3</th>\n",
              "      <td>Warwick Thornton</td>\n",
              "      <td>Bryan Brown</td>\n",
              "      <td>Sam Neill</td>\n",
              "      <td>unknown</td>\n",
              "      <td>Drama History Western</td>\n",
              "      <td>sweet country</td>\n",
              "      <td>Bryan Brown Sam Neill unknown Warwick Thornton...</td>\n",
              "    </tr>\n",
              "    <tr>\n",
              "      <th>4</th>\n",
              "      <td>Jaume Collet-Serra</td>\n",
              "      <td>Liam Neeson</td>\n",
              "      <td>Vera Farmiga</td>\n",
              "      <td>Patrick Wilson</td>\n",
              "      <td>Action Thriller</td>\n",
              "      <td>the commuter</td>\n",
              "      <td>Liam Neeson Vera Farmiga Patrick Wilson Jaume ...</td>\n",
              "    </tr>\n",
              "    <tr>\n",
              "      <th>...</th>\n",
              "      <td>...</td>\n",
              "      <td>...</td>\n",
              "      <td>...</td>\n",
              "      <td>...</td>\n",
              "      <td>...</td>\n",
              "      <td>...</td>\n",
              "      <td>...</td>\n",
              "    </tr>\n",
              "    <tr>\n",
              "      <th>506</th>\n",
              "      <td>Nick Bruno, Troy Quane</td>\n",
              "      <td>Will Smith</td>\n",
              "      <td>Tom Holland</td>\n",
              "      <td>Rashida Jones</td>\n",
              "      <td>Animation Action Adventure Comedy Family</td>\n",
              "      <td>spies in disguise</td>\n",
              "      <td>Will Smith Tom Holland Rashida Jones Nick Brun...</td>\n",
              "    </tr>\n",
              "    <tr>\n",
              "      <th>507</th>\n",
              "      <td>Greta Gerwig</td>\n",
              "      <td>Saoirse Ronan</td>\n",
              "      <td>Emma Watson</td>\n",
              "      <td>Florence Pugh</td>\n",
              "      <td>Drama Romance</td>\n",
              "      <td>little women</td>\n",
              "      <td>Saoirse Ronan Emma Watson Florence Pugh Greta ...</td>\n",
              "    </tr>\n",
              "    <tr>\n",
              "      <th>508</th>\n",
              "      <td>Sam Mendes</td>\n",
              "      <td>George MacKay</td>\n",
              "      <td>Dean-Charles Chapman</td>\n",
              "      <td>Mark Strong</td>\n",
              "      <td>War Drama Action Thriller</td>\n",
              "      <td>1917</td>\n",
              "      <td>George MacKay Dean-Charles Chapman Mark Strong...</td>\n",
              "    </tr>\n",
              "    <tr>\n",
              "      <th>509</th>\n",
              "      <td>Destin Daniel Cretton</td>\n",
              "      <td>Michael B. Jordan</td>\n",
              "      <td>Jamie Foxx</td>\n",
              "      <td>Brie Larson</td>\n",
              "      <td>Drama Crime History</td>\n",
              "      <td>just mercy</td>\n",
              "      <td>Michael B. Jordan Jamie Foxx Brie Larson Desti...</td>\n",
              "    </tr>\n",
              "    <tr>\n",
              "      <th>510</th>\n",
              "      <td>Chinonye Chukwu</td>\n",
              "      <td>Alfre Woodard</td>\n",
              "      <td>Wendell Pierce</td>\n",
              "      <td>Aldis Hodge</td>\n",
              "      <td>Drama</td>\n",
              "      <td>clemency</td>\n",
              "      <td>Alfre Woodard Wendell Pierce Aldis Hodge Chino...</td>\n",
              "    </tr>\n",
              "  </tbody>\n",
              "</table>\n",
              "<p>511 rows × 7 columns</p>\n",
              "</div>"
            ],
            "text/plain": [
              "              director_name  ...                                               comb\n",
              "0              Adam Robitel  ...  Lin Shaye Angus Sampson Leigh Whannell Adam Ro...\n",
              "1          Lauren Wolkstein  ...  Alex Pettyfer James Freedson-Jackson Emily Alt...\n",
              "2                Simon West  ...  Dominic Cooper Austin Stowell Gemma Chan Simon...\n",
              "3          Warwick Thornton  ...  Bryan Brown Sam Neill unknown Warwick Thornton...\n",
              "4        Jaume Collet-Serra  ...  Liam Neeson Vera Farmiga Patrick Wilson Jaume ...\n",
              "..                      ...  ...                                                ...\n",
              "506  Nick Bruno, Troy Quane  ...  Will Smith Tom Holland Rashida Jones Nick Brun...\n",
              "507            Greta Gerwig  ...  Saoirse Ronan Emma Watson Florence Pugh Greta ...\n",
              "508              Sam Mendes  ...  George MacKay Dean-Charles Chapman Mark Strong...\n",
              "509   Destin Daniel Cretton  ...  Michael B. Jordan Jamie Foxx Brie Larson Desti...\n",
              "510         Chinonye Chukwu  ...  Alfre Woodard Wendell Pierce Aldis Hodge Chino...\n",
              "\n",
              "[511 rows x 7 columns]"
            ]
          },
          "metadata": {
            "tags": []
          },
          "execution_count": 161
        }
      ]
    },
    {
      "cell_type": "code",
      "metadata": {
        "id": "LVPDRxy2g6Yj"
      },
      "source": [
        "old_df = pd.read_csv('/new_data.csv')"
      ],
      "execution_count": null,
      "outputs": []
    },
    {
      "cell_type": "code",
      "metadata": {
        "id": "exZSwgtlg6Yj",
        "outputId": "921cdc7a-f49a-4c8a-824c-b9deaa1f115b"
      },
      "source": [
        "old_df"
      ],
      "execution_count": null,
      "outputs": [
        {
          "output_type": "execute_result",
          "data": {
            "text/html": [
              "<div>\n",
              "<style scoped>\n",
              "    .dataframe tbody tr th:only-of-type {\n",
              "        vertical-align: middle;\n",
              "    }\n",
              "\n",
              "    .dataframe tbody tr th {\n",
              "        vertical-align: top;\n",
              "    }\n",
              "\n",
              "    .dataframe thead th {\n",
              "        text-align: right;\n",
              "    }\n",
              "</style>\n",
              "<table border=\"1\" class=\"dataframe\">\n",
              "  <thead>\n",
              "    <tr style=\"text-align: right;\">\n",
              "      <th></th>\n",
              "      <th>director_name</th>\n",
              "      <th>actor_1_name</th>\n",
              "      <th>actor_2_name</th>\n",
              "      <th>actor_3_name</th>\n",
              "      <th>genres</th>\n",
              "      <th>movie_title</th>\n",
              "      <th>comb</th>\n",
              "    </tr>\n",
              "  </thead>\n",
              "  <tbody>\n",
              "    <tr>\n",
              "      <th>0</th>\n",
              "      <td>James Cameron</td>\n",
              "      <td>CCH Pounder</td>\n",
              "      <td>Joel David Moore</td>\n",
              "      <td>Wes Studi</td>\n",
              "      <td>Action Adventure Fantasy Sci-Fi</td>\n",
              "      <td>avatar</td>\n",
              "      <td>CCH Pounder Joel David Moore Wes Studi James C...</td>\n",
              "    </tr>\n",
              "    <tr>\n",
              "      <th>1</th>\n",
              "      <td>Gore Verbinski</td>\n",
              "      <td>Johnny Depp</td>\n",
              "      <td>Orlando Bloom</td>\n",
              "      <td>Jack Davenport</td>\n",
              "      <td>Action Adventure Fantasy</td>\n",
              "      <td>pirates of the caribbean: at world's end</td>\n",
              "      <td>Johnny Depp Orlando Bloom Jack Davenport Gore ...</td>\n",
              "    </tr>\n",
              "    <tr>\n",
              "      <th>2</th>\n",
              "      <td>Sam Mendes</td>\n",
              "      <td>Christoph Waltz</td>\n",
              "      <td>Rory Kinnear</td>\n",
              "      <td>Stephanie Sigman</td>\n",
              "      <td>Action Adventure Thriller</td>\n",
              "      <td>spectre</td>\n",
              "      <td>Christoph Waltz Rory Kinnear Stephanie Sigman ...</td>\n",
              "    </tr>\n",
              "    <tr>\n",
              "      <th>3</th>\n",
              "      <td>Christopher Nolan</td>\n",
              "      <td>Tom Hardy</td>\n",
              "      <td>Christian Bale</td>\n",
              "      <td>Joseph Gordon-Levitt</td>\n",
              "      <td>Action Thriller</td>\n",
              "      <td>the dark knight rises</td>\n",
              "      <td>Tom Hardy Christian Bale Joseph Gordon-Levitt ...</td>\n",
              "    </tr>\n",
              "    <tr>\n",
              "      <th>4</th>\n",
              "      <td>Doug Walker</td>\n",
              "      <td>Doug Walker</td>\n",
              "      <td>Rob Walker</td>\n",
              "      <td>unknown</td>\n",
              "      <td>Documentary</td>\n",
              "      <td>star wars: episode vii - the force awakens    ...</td>\n",
              "      <td>Doug Walker Rob Walker unknown Doug Walker Doc...</td>\n",
              "    </tr>\n",
              "    <tr>\n",
              "      <th>...</th>\n",
              "      <td>...</td>\n",
              "      <td>...</td>\n",
              "      <td>...</td>\n",
              "      <td>...</td>\n",
              "      <td>...</td>\n",
              "      <td>...</td>\n",
              "      <td>...</td>\n",
              "    </tr>\n",
              "    <tr>\n",
              "      <th>5359</th>\n",
              "      <td>Jim Strouse</td>\n",
              "      <td>Jessica Williams</td>\n",
              "      <td>Chris O'Dowd</td>\n",
              "      <td>Keith Stanfield</td>\n",
              "      <td>Romance Comedy</td>\n",
              "      <td>the incredible jessica james</td>\n",
              "      <td>Jessica Williams Chris O'Dowd Keith Stanfield ...</td>\n",
              "    </tr>\n",
              "    <tr>\n",
              "      <th>5360</th>\n",
              "      <td>Farhad Mann</td>\n",
              "      <td>Adelaide Kane</td>\n",
              "      <td>Benjamin Hollingsworth</td>\n",
              "      <td>Jean Louisa Kelly</td>\n",
              "      <td>Romance</td>\n",
              "      <td>can't buy my love</td>\n",
              "      <td>Adelaide Kane Benjamin Hollingsworth Jean Loui...</td>\n",
              "    </tr>\n",
              "    <tr>\n",
              "      <th>5361</th>\n",
              "      <td>Hannaleena Hauru</td>\n",
              "      <td>Inka Haapamäki</td>\n",
              "      <td>Rosa Honkonen</td>\n",
              "      <td>Tiitus Rantala</td>\n",
              "      <td>Romance Comedy</td>\n",
              "      <td>thick lashes of lauri mäntyvaara</td>\n",
              "      <td>Inka Haapamäki Rosa Honkonen Tiitus Rantala Ha...</td>\n",
              "    </tr>\n",
              "    <tr>\n",
              "      <th>5362</th>\n",
              "      <td>Jonathan A. Rosenbaum</td>\n",
              "      <td>Lou Diamond Phillips</td>\n",
              "      <td>Wallace Shawn</td>\n",
              "      <td>Gina Holden</td>\n",
              "      <td>Crime Comedy Action Family</td>\n",
              "      <td>cop and a half: new recruit</td>\n",
              "      <td>Lou Diamond Phillips Wallace Shawn Gina Holden...</td>\n",
              "    </tr>\n",
              "    <tr>\n",
              "      <th>5363</th>\n",
              "      <td>Ravi Udyawar</td>\n",
              "      <td>Sridevi Kapoor</td>\n",
              "      <td>Sajal Ali</td>\n",
              "      <td>Akshaye Khanna</td>\n",
              "      <td>Crime Drama Thriller</td>\n",
              "      <td>mom</td>\n",
              "      <td>Sridevi Kapoor Sajal Ali Akshaye Khanna Ravi U...</td>\n",
              "    </tr>\n",
              "  </tbody>\n",
              "</table>\n",
              "<p>5364 rows × 7 columns</p>\n",
              "</div>"
            ],
            "text/plain": [
              "              director_name          actor_1_name            actor_2_name  \\\n",
              "0             James Cameron           CCH Pounder        Joel David Moore   \n",
              "1            Gore Verbinski           Johnny Depp           Orlando Bloom   \n",
              "2                Sam Mendes       Christoph Waltz            Rory Kinnear   \n",
              "3         Christopher Nolan             Tom Hardy          Christian Bale   \n",
              "4               Doug Walker           Doug Walker              Rob Walker   \n",
              "...                     ...                   ...                     ...   \n",
              "5359            Jim Strouse      Jessica Williams            Chris O'Dowd   \n",
              "5360            Farhad Mann         Adelaide Kane  Benjamin Hollingsworth   \n",
              "5361       Hannaleena Hauru        Inka Haapamäki           Rosa Honkonen   \n",
              "5362  Jonathan A. Rosenbaum  Lou Diamond Phillips           Wallace Shawn   \n",
              "5363           Ravi Udyawar        Sridevi Kapoor               Sajal Ali   \n",
              "\n",
              "              actor_3_name                           genres  \\\n",
              "0                Wes Studi  Action Adventure Fantasy Sci-Fi   \n",
              "1           Jack Davenport         Action Adventure Fantasy   \n",
              "2         Stephanie Sigman        Action Adventure Thriller   \n",
              "3     Joseph Gordon-Levitt                  Action Thriller   \n",
              "4                  unknown                      Documentary   \n",
              "...                    ...                              ...   \n",
              "5359       Keith Stanfield                   Romance Comedy   \n",
              "5360     Jean Louisa Kelly                          Romance   \n",
              "5361        Tiitus Rantala                   Romance Comedy   \n",
              "5362           Gina Holden       Crime Comedy Action Family   \n",
              "5363        Akshaye Khanna             Crime Drama Thriller   \n",
              "\n",
              "                                            movie_title  \\\n",
              "0                                                avatar   \n",
              "1              pirates of the caribbean: at world's end   \n",
              "2                                               spectre   \n",
              "3                                 the dark knight rises   \n",
              "4     star wars: episode vii - the force awakens    ...   \n",
              "...                                                 ...   \n",
              "5359                       the incredible jessica james   \n",
              "5360                                  can't buy my love   \n",
              "5361                   thick lashes of lauri mäntyvaara   \n",
              "5362                        cop and a half: new recruit   \n",
              "5363                                                mom   \n",
              "\n",
              "                                                   comb  \n",
              "0     CCH Pounder Joel David Moore Wes Studi James C...  \n",
              "1     Johnny Depp Orlando Bloom Jack Davenport Gore ...  \n",
              "2     Christoph Waltz Rory Kinnear Stephanie Sigman ...  \n",
              "3     Tom Hardy Christian Bale Joseph Gordon-Levitt ...  \n",
              "4     Doug Walker Rob Walker unknown Doug Walker Doc...  \n",
              "...                                                 ...  \n",
              "5359  Jessica Williams Chris O'Dowd Keith Stanfield ...  \n",
              "5360  Adelaide Kane Benjamin Hollingsworth Jean Loui...  \n",
              "5361  Inka Haapamäki Rosa Honkonen Tiitus Rantala Ha...  \n",
              "5362  Lou Diamond Phillips Wallace Shawn Gina Holden...  \n",
              "5363  Sridevi Kapoor Sajal Ali Akshaye Khanna Ravi U...  \n",
              "\n",
              "[5364 rows x 7 columns]"
            ]
          },
          "metadata": {
            "tags": []
          },
          "execution_count": 52
        }
      ]
    },
    {
      "cell_type": "code",
      "metadata": {
        "id": "IaQrOXhug6Yj"
      },
      "source": [
        "final_df = old_df.append(my_df,ignore_index=True)"
      ],
      "execution_count": null,
      "outputs": []
    },
    {
      "cell_type": "code",
      "metadata": {
        "colab": {
          "base_uri": "https://localhost:8080/",
          "height": 570
        },
        "id": "iDV7MPjyg6Yk",
        "outputId": "57686a3d-6217-4105-dcda-d13af5f6c8cd"
      },
      "source": [
        "final_df"
      ],
      "execution_count": null,
      "outputs": [
        {
          "output_type": "execute_result",
          "data": {
            "text/html": [
              "<div>\n",
              "<style scoped>\n",
              "    .dataframe tbody tr th:only-of-type {\n",
              "        vertical-align: middle;\n",
              "    }\n",
              "\n",
              "    .dataframe tbody tr th {\n",
              "        vertical-align: top;\n",
              "    }\n",
              "\n",
              "    .dataframe thead th {\n",
              "        text-align: right;\n",
              "    }\n",
              "</style>\n",
              "<table border=\"1\" class=\"dataframe\">\n",
              "  <thead>\n",
              "    <tr style=\"text-align: right;\">\n",
              "      <th></th>\n",
              "      <th>director_name</th>\n",
              "      <th>actor_1_name</th>\n",
              "      <th>actor_2_name</th>\n",
              "      <th>actor_3_name</th>\n",
              "      <th>genres</th>\n",
              "      <th>movie_title</th>\n",
              "      <th>comb</th>\n",
              "    </tr>\n",
              "  </thead>\n",
              "  <tbody>\n",
              "    <tr>\n",
              "      <th>0</th>\n",
              "      <td>James Cameron</td>\n",
              "      <td>CCH Pounder</td>\n",
              "      <td>Joel David Moore</td>\n",
              "      <td>Wes Studi</td>\n",
              "      <td>Action Adventure Fantasy Sci-Fi</td>\n",
              "      <td>avatar</td>\n",
              "      <td>CCH Pounder Joel David Moore Wes Studi James C...</td>\n",
              "    </tr>\n",
              "    <tr>\n",
              "      <th>1</th>\n",
              "      <td>Gore Verbinski</td>\n",
              "      <td>Johnny Depp</td>\n",
              "      <td>Orlando Bloom</td>\n",
              "      <td>Jack Davenport</td>\n",
              "      <td>Action Adventure Fantasy</td>\n",
              "      <td>pirates of the caribbean: at world's end</td>\n",
              "      <td>Johnny Depp Orlando Bloom Jack Davenport Gore ...</td>\n",
              "    </tr>\n",
              "    <tr>\n",
              "      <th>2</th>\n",
              "      <td>Sam Mendes</td>\n",
              "      <td>Christoph Waltz</td>\n",
              "      <td>Rory Kinnear</td>\n",
              "      <td>Stephanie Sigman</td>\n",
              "      <td>Action Adventure Thriller</td>\n",
              "      <td>spectre</td>\n",
              "      <td>Christoph Waltz Rory Kinnear Stephanie Sigman ...</td>\n",
              "    </tr>\n",
              "    <tr>\n",
              "      <th>3</th>\n",
              "      <td>Christopher Nolan</td>\n",
              "      <td>Tom Hardy</td>\n",
              "      <td>Christian Bale</td>\n",
              "      <td>Joseph Gordon-Levitt</td>\n",
              "      <td>Action Thriller</td>\n",
              "      <td>the dark knight rises</td>\n",
              "      <td>Tom Hardy Christian Bale Joseph Gordon-Levitt ...</td>\n",
              "    </tr>\n",
              "    <tr>\n",
              "      <th>4</th>\n",
              "      <td>Doug Walker</td>\n",
              "      <td>Doug Walker</td>\n",
              "      <td>Rob Walker</td>\n",
              "      <td>unknown</td>\n",
              "      <td>Documentary</td>\n",
              "      <td>star wars: episode vii - the force awakens    ...</td>\n",
              "      <td>Doug Walker Rob Walker unknown Doug Walker Doc...</td>\n",
              "    </tr>\n",
              "    <tr>\n",
              "      <th>...</th>\n",
              "      <td>...</td>\n",
              "      <td>...</td>\n",
              "      <td>...</td>\n",
              "      <td>...</td>\n",
              "      <td>...</td>\n",
              "      <td>...</td>\n",
              "      <td>...</td>\n",
              "    </tr>\n",
              "    <tr>\n",
              "      <th>5870</th>\n",
              "      <td>Nick Bruno, Troy Quane</td>\n",
              "      <td>Will Smith</td>\n",
              "      <td>Tom Holland</td>\n",
              "      <td>Rashida Jones</td>\n",
              "      <td>Animation Action Adventure Comedy Family</td>\n",
              "      <td>spies in disguise</td>\n",
              "      <td>Will Smith Tom Holland Rashida Jones Nick Brun...</td>\n",
              "    </tr>\n",
              "    <tr>\n",
              "      <th>5871</th>\n",
              "      <td>Greta Gerwig</td>\n",
              "      <td>Saoirse Ronan</td>\n",
              "      <td>Emma Watson</td>\n",
              "      <td>Florence Pugh</td>\n",
              "      <td>Drama Romance</td>\n",
              "      <td>little women</td>\n",
              "      <td>Saoirse Ronan Emma Watson Florence Pugh Greta ...</td>\n",
              "    </tr>\n",
              "    <tr>\n",
              "      <th>5872</th>\n",
              "      <td>Sam Mendes</td>\n",
              "      <td>George MacKay</td>\n",
              "      <td>Dean-Charles Chapman</td>\n",
              "      <td>Mark Strong</td>\n",
              "      <td>War Drama Action Thriller</td>\n",
              "      <td>1917</td>\n",
              "      <td>George MacKay Dean-Charles Chapman Mark Strong...</td>\n",
              "    </tr>\n",
              "    <tr>\n",
              "      <th>5873</th>\n",
              "      <td>Destin Daniel Cretton</td>\n",
              "      <td>Michael B. Jordan</td>\n",
              "      <td>Jamie Foxx</td>\n",
              "      <td>Brie Larson</td>\n",
              "      <td>Drama Crime History</td>\n",
              "      <td>just mercy</td>\n",
              "      <td>Michael B. Jordan Jamie Foxx Brie Larson Desti...</td>\n",
              "    </tr>\n",
              "    <tr>\n",
              "      <th>5874</th>\n",
              "      <td>Chinonye Chukwu</td>\n",
              "      <td>Alfre Woodard</td>\n",
              "      <td>Wendell Pierce</td>\n",
              "      <td>Aldis Hodge</td>\n",
              "      <td>Drama</td>\n",
              "      <td>clemency</td>\n",
              "      <td>Alfre Woodard Wendell Pierce Aldis Hodge Chino...</td>\n",
              "    </tr>\n",
              "  </tbody>\n",
              "</table>\n",
              "<p>5875 rows × 7 columns</p>\n",
              "</div>"
            ],
            "text/plain": [
              "               director_name  ...                                               comb\n",
              "0              James Cameron  ...  CCH Pounder Joel David Moore Wes Studi James C...\n",
              "1             Gore Verbinski  ...  Johnny Depp Orlando Bloom Jack Davenport Gore ...\n",
              "2                 Sam Mendes  ...  Christoph Waltz Rory Kinnear Stephanie Sigman ...\n",
              "3          Christopher Nolan  ...  Tom Hardy Christian Bale Joseph Gordon-Levitt ...\n",
              "4                Doug Walker  ...  Doug Walker Rob Walker unknown Doug Walker Doc...\n",
              "...                      ...  ...                                                ...\n",
              "5870  Nick Bruno, Troy Quane  ...  Will Smith Tom Holland Rashida Jones Nick Brun...\n",
              "5871            Greta Gerwig  ...  Saoirse Ronan Emma Watson Florence Pugh Greta ...\n",
              "5872              Sam Mendes  ...  George MacKay Dean-Charles Chapman Mark Strong...\n",
              "5873   Destin Daniel Cretton  ...  Michael B. Jordan Jamie Foxx Brie Larson Desti...\n",
              "5874         Chinonye Chukwu  ...  Alfre Woodard Wendell Pierce Aldis Hodge Chino...\n",
              "\n",
              "[5875 rows x 7 columns]"
            ]
          },
          "metadata": {
            "tags": []
          },
          "execution_count": 166
        }
      ]
    },
    {
      "cell_type": "code",
      "metadata": {
        "colab": {
          "base_uri": "https://localhost:8080/"
        },
        "id": "p_mCtXLSg6Yk",
        "outputId": "0f5b1174-1dab-4237-b196-8288822b3de9"
      },
      "source": [
        "final_df.isna().sum()"
      ],
      "execution_count": null,
      "outputs": [
        {
          "output_type": "execute_result",
          "data": {
            "text/plain": [
              "director_name    0\n",
              "actor_1_name     0\n",
              "actor_2_name     0\n",
              "actor_3_name     0\n",
              "genres           3\n",
              "movie_title      0\n",
              "comb             3\n",
              "dtype: int64"
            ]
          },
          "metadata": {
            "tags": []
          },
          "execution_count": 167
        }
      ]
    },
    {
      "cell_type": "code",
      "metadata": {
        "id": "qGUmO6tmg6Yk"
      },
      "source": [
        "final_df = final_df.dropna(how='any')"
      ],
      "execution_count": null,
      "outputs": []
    },
    {
      "cell_type": "code",
      "metadata": {
        "colab": {
          "base_uri": "https://localhost:8080/"
        },
        "id": "SstCVwHwg6Yl",
        "outputId": "edb46374-1b8b-4c39-998d-44a3570dfb55"
      },
      "source": [
        "final_df.isna().sum()"
      ],
      "execution_count": null,
      "outputs": [
        {
          "output_type": "execute_result",
          "data": {
            "text/plain": [
              "director_name    0\n",
              "actor_1_name     0\n",
              "actor_2_name     0\n",
              "actor_3_name     0\n",
              "genres           0\n",
              "movie_title      0\n",
              "comb             0\n",
              "dtype: int64"
            ]
          },
          "metadata": {
            "tags": []
          },
          "execution_count": 169
        }
      ]
    },
    {
      "cell_type": "code",
      "metadata": {
        "id": "Ni9c8-pTg6Yl"
      },
      "source": [
        "final_df.to_csv('final_data.csv',index=False)"
      ],
      "execution_count": null,
      "outputs": []
    }
  ]
}