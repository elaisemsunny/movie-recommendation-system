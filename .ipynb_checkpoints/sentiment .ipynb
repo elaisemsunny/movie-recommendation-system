{
  "nbformat": 4,
  "nbformat_minor": 0,
  "metadata": {
    "kernelspec": {
      "display_name": "Python 3",
      "language": "python",
      "name": "python3"
    },
    "language_info": {
      "codemirror_mode": {
        "name": "ipython",
        "version": 3
      },
      "file_extension": ".py",
      "mimetype": "text/x-python",
      "name": "python",
      "nbconvert_exporter": "python",
      "pygments_lexer": "ipython3",
      "version": "3.8.3"
    },
    "colab": {
      "name": "sentiment.ipynb",
      "provenance": [],
      "collapsed_sections": []
    }
  },
  "cells": [
    {
      "cell_type": "code",
      "metadata": {
        "id": "KD2JY5-2rfEB"
      },
      "source": [
        "import pandas as pd\n",
        "import numpy as np\n",
        "import nltk\n",
        "from nltk.corpus import stopwords\n",
        "from sklearn.feature_extraction.text import TfidfVectorizer\n",
        "from sklearn.model_selection import train_test_split\n",
        "from sklearn import naive_bayes\n",
        "from sklearn.metrics import roc_auc_score,accuracy_score\n",
        "import pickle"
      ],
      "execution_count": null,
      "outputs": []
    },
    {
      "cell_type": "code",
      "metadata": {
        "colab": {
          "base_uri": "https://localhost:8080/"
        },
        "id": "FcHAXDTurfEH",
        "outputId": "cb8edde1-4221-4da2-9ab3-ad23b5aac840"
      },
      "source": [
        "nltk.download(\"stopwords\")"
      ],
      "execution_count": null,
      "outputs": [
        {
          "output_type": "stream",
          "text": [
            "[nltk_data] Downloading package stopwords to /root/nltk_data...\n",
            "[nltk_data]   Unzipping corpora/stopwords.zip.\n"
          ],
          "name": "stdout"
        },
        {
          "output_type": "execute_result",
          "data": {
            "text/plain": [
              "True"
            ]
          },
          "metadata": {
            "tags": []
          },
          "execution_count": 2
        }
      ]
    },
    {
      "cell_type": "code",
      "metadata": {
        "id": "RYJvGx_6rfEI"
      },
      "source": [
        "dataset = pd.read_csv('reviews.txt',sep = '\\t', names =['Reviews','Comments'])"
      ],
      "execution_count": null,
      "outputs": []
    },
    {
      "cell_type": "code",
      "metadata": {
        "colab": {
          "base_uri": "https://localhost:8080/",
          "height": 402
        },
        "id": "P7J4uI-6rfEJ",
        "outputId": "01b1f05c-49e1-4ac3-b1a0-778430819f1e"
      },
      "source": [
        "dataset"
      ],
      "execution_count": null,
      "outputs": [
        {
          "output_type": "execute_result",
          "data": {
            "text/html": [
              "<div>\n",
              "<style scoped>\n",
              "    .dataframe tbody tr th:only-of-type {\n",
              "        vertical-align: middle;\n",
              "    }\n",
              "\n",
              "    .dataframe tbody tr th {\n",
              "        vertical-align: top;\n",
              "    }\n",
              "\n",
              "    .dataframe thead th {\n",
              "        text-align: right;\n",
              "    }\n",
              "</style>\n",
              "<table border=\"1\" class=\"dataframe\">\n",
              "  <thead>\n",
              "    <tr style=\"text-align: right;\">\n",
              "      <th></th>\n",
              "      <th>Reviews</th>\n",
              "      <th>Comments</th>\n",
              "    </tr>\n",
              "  </thead>\n",
              "  <tbody>\n",
              "    <tr>\n",
              "      <th>0</th>\n",
              "      <td>1</td>\n",
              "      <td>The Da Vinci Code book is just awesome.</td>\n",
              "    </tr>\n",
              "    <tr>\n",
              "      <th>1</th>\n",
              "      <td>1</td>\n",
              "      <td>this was the first clive cussler i've ever rea...</td>\n",
              "    </tr>\n",
              "    <tr>\n",
              "      <th>2</th>\n",
              "      <td>1</td>\n",
              "      <td>i liked the Da Vinci Code a lot.</td>\n",
              "    </tr>\n",
              "    <tr>\n",
              "      <th>3</th>\n",
              "      <td>1</td>\n",
              "      <td>i liked the Da Vinci Code a lot.</td>\n",
              "    </tr>\n",
              "    <tr>\n",
              "      <th>4</th>\n",
              "      <td>1</td>\n",
              "      <td>I liked the Da Vinci Code but it ultimatly did...</td>\n",
              "    </tr>\n",
              "    <tr>\n",
              "      <th>...</th>\n",
              "      <td>...</td>\n",
              "      <td>...</td>\n",
              "    </tr>\n",
              "    <tr>\n",
              "      <th>6913</th>\n",
              "      <td>0</td>\n",
              "      <td>Brokeback Mountain was boring.</td>\n",
              "    </tr>\n",
              "    <tr>\n",
              "      <th>6914</th>\n",
              "      <td>0</td>\n",
              "      <td>So Brokeback Mountain was really depressing.</td>\n",
              "    </tr>\n",
              "    <tr>\n",
              "      <th>6915</th>\n",
              "      <td>0</td>\n",
              "      <td>As I sit here, watching the MTV Movie Awards, ...</td>\n",
              "    </tr>\n",
              "    <tr>\n",
              "      <th>6916</th>\n",
              "      <td>0</td>\n",
              "      <td>Ok brokeback mountain is such a horrible movie.</td>\n",
              "    </tr>\n",
              "    <tr>\n",
              "      <th>6917</th>\n",
              "      <td>0</td>\n",
              "      <td>Oh, and Brokeback Mountain was a terrible movie.</td>\n",
              "    </tr>\n",
              "  </tbody>\n",
              "</table>\n",
              "<p>6918 rows × 2 columns</p>\n",
              "</div>"
            ],
            "text/plain": [
              "      Reviews                                           Comments\n",
              "0           1            The Da Vinci Code book is just awesome.\n",
              "1           1  this was the first clive cussler i've ever rea...\n",
              "2           1                   i liked the Da Vinci Code a lot.\n",
              "3           1                   i liked the Da Vinci Code a lot.\n",
              "4           1  I liked the Da Vinci Code but it ultimatly did...\n",
              "...       ...                                                ...\n",
              "6913        0                     Brokeback Mountain was boring.\n",
              "6914        0       So Brokeback Mountain was really depressing.\n",
              "6915        0  As I sit here, watching the MTV Movie Awards, ...\n",
              "6916        0    Ok brokeback mountain is such a horrible movie.\n",
              "6917        0   Oh, and Brokeback Mountain was a terrible movie.\n",
              "\n",
              "[6918 rows x 2 columns]"
            ]
          },
          "metadata": {
            "tags": []
          },
          "execution_count": 4
        }
      ]
    },
    {
      "cell_type": "code",
      "metadata": {
        "id": "Fid-ks_6rfEJ"
      },
      "source": [
        "stopset = set(stopwords.words('english'))"
      ],
      "execution_count": null,
      "outputs": []
    },
    {
      "cell_type": "code",
      "metadata": {
        "id": "13nmBpstrfEJ"
      },
      "source": [
        "vectorizer = TfidfVectorizer(use_idf = True,lowercase = True, strip_accents='ascii',stop_words=stopset)"
      ],
      "execution_count": null,
      "outputs": []
    },
    {
      "cell_type": "code",
      "metadata": {
        "id": "B-BiUIhxrfEK"
      },
      "source": [
        "X = vectorizer.fit_transform(dataset.Comments)\n",
        "y = dataset.Reviews\n",
        "pickle.dump(vectorizer, open('tranform.pkl', 'wb'))"
      ],
      "execution_count": null,
      "outputs": []
    },
    {
      "cell_type": "code",
      "metadata": {
        "id": "DgirQeoprfEK"
      },
      "source": [
        "X_train, X_test, y_train, y_test = train_test_split(X, y, test_size=0.20, random_state=42)"
      ],
      "execution_count": null,
      "outputs": []
    },
    {
      "cell_type": "code",
      "metadata": {
        "colab": {
          "base_uri": "https://localhost:8080/"
        },
        "id": "XlAIq5ParfEK",
        "outputId": "2881457f-629d-49a0-d033-bd5aaa6b404a"
      },
      "source": [
        "clf = naive_bayes.MultinomialNB()\n",
        "clf.fit(X_train,y_train)"
      ],
      "execution_count": null,
      "outputs": [
        {
          "output_type": "execute_result",
          "data": {
            "text/plain": [
              "MultinomialNB(alpha=1.0, class_prior=None, fit_prior=True)"
            ]
          },
          "metadata": {
            "tags": []
          },
          "execution_count": 9
        }
      ]
    },
    {
      "cell_type": "code",
      "metadata": {
        "colab": {
          "base_uri": "https://localhost:8080/"
        },
        "id": "T_bdigp8rfEL",
        "outputId": "8fe18db3-a446-40cd-cd9a-1943cec45bf2"
      },
      "source": [
        "accuracy_score(y_test,clf.predict(X_test))*100"
      ],
      "execution_count": null,
      "outputs": [
        {
          "output_type": "execute_result",
          "data": {
            "text/plain": [
              "97.47109826589595"
            ]
          },
          "metadata": {
            "tags": []
          },
          "execution_count": 10
        }
      ]
    },
    {
      "cell_type": "code",
      "metadata": {
        "colab": {
          "base_uri": "https://localhost:8080/"
        },
        "id": "KRAFX_xcrfEL",
        "outputId": "744739d8-94d6-44a4-a8bb-227a8644e84d"
      },
      "source": [
        "clf = naive_bayes.MultinomialNB()\n",
        "clf.fit(X,y)"
      ],
      "execution_count": null,
      "outputs": [
        {
          "output_type": "execute_result",
          "data": {
            "text/plain": [
              "MultinomialNB(alpha=1.0, class_prior=None, fit_prior=True)"
            ]
          },
          "metadata": {
            "tags": []
          },
          "execution_count": 11
        }
      ]
    },
    {
      "cell_type": "code",
      "metadata": {
        "colab": {
          "base_uri": "https://localhost:8080/"
        },
        "id": "KhQNiv_PrfEL",
        "outputId": "25c74a95-6aae-47d0-e9ce-8b7566269f30"
      },
      "source": [
        "accuracy_score(y_test,clf.predict(X_test))*100"
      ],
      "execution_count": null,
      "outputs": [
        {
          "output_type": "execute_result",
          "data": {
            "text/plain": [
              "98.77167630057804"
            ]
          },
          "metadata": {
            "tags": []
          },
          "execution_count": 12
        }
      ]
    },
    {
      "cell_type": "code",
      "metadata": {
        "id": "I1ZPYGd2rfEM"
      },
      "source": [
        "filename = 'nlp_model.pkl'\n",
        "pickle.dump(clf, open(filename, 'wb'))"
      ],
      "execution_count": null,
      "outputs": []
    }
  ]
}